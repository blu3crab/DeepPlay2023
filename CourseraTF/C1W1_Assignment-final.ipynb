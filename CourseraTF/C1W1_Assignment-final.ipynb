{
 "cells": [
  {
   "cell_type": "markdown",
   "metadata": {
    "colab_type": "text",
    "id": "ZL_6GK8qX35J"
   },
   "source": [
    "\n",
    "\n",
    "# Week 1: Multiple Output Models using the Keras Functional API\n",
    "\n",
    "Welcome to the first programming assignment of the course! Your task will be to use the Keras functional API to train a model to predict two outputs. For this lab, you will use the **[Wine Quality Dataset](https://archive.ics.uci.edu/ml/datasets/Wine+Quality)** from the **UCI machine learning repository**. It has separate datasets for red wine and white wine.\n",
    "\n",
    "Normally, the wines are classified into one of the quality ratings specified in the attributes. In this exercise, you will combine the two datasets to predict the wine quality and whether the wine is red or white solely from the attributes. \n",
    "\n",
    "You will model wine quality estimations as a regression problem and wine type detection as a binary classification problem.\n",
    "\n",
    "#### Please complete sections that are marked **(TODO)**"
   ]
  },
  {
   "cell_type": "markdown",
   "metadata": {
    "colab_type": "text",
    "id": "obdcD6urYBY9"
   },
   "source": [
    "## Imports"
   ]
  },
  {
   "cell_type": "code",
   "execution_count": 34,
   "metadata": {
    "colab": {},
    "colab_type": "code",
    "id": "t8N3pcTQ5oQI"
   },
   "outputs": [],
   "source": [
    "import tensorflow as tf\n",
    "from tensorflow.keras.models import Model\n",
    "from tensorflow.keras.layers import Dense, Input\n",
    "\n",
    "import numpy as np\n",
    "import matplotlib.pyplot as plt\n",
    "import pandas as pd\n",
    "from sklearn.model_selection import train_test_split\n",
    "from sklearn.metrics import confusion_matrix, ConfusionMatrixDisplay\n",
    "import itertools\n",
    "\n",
    "import utils"
   ]
  },
  {
   "cell_type": "markdown",
   "metadata": {
    "colab_type": "text",
    "id": "gQMERzWQYpgm"
   },
   "source": [
    "## Load Dataset\n",
    "\n",
    "\n",
    "You will now load the dataset from the [UCI Machine Learning Repository](https://archive.ics.uci.edu/ml/index.php) which are **already saved** in your workspace (*Note: For successful grading, please **do not** modify the default string set to the `URI` variable below*).\n",
    "\n",
    "### Pre-process the white wine dataset (TODO)\n",
    "You will add a new column named `is_red` in your dataframe to indicate if the wine is white or red. \n",
    "- In the white wine dataset, you will fill the column `is_red` with  zeros (0)."
   ]
  },
  {
   "cell_type": "code",
   "execution_count": 35,
   "metadata": {
    "colab": {},
    "colab_type": "code",
    "deletable": false,
    "id": "2qYAjKXCd4RH",
    "nbgrader": {
     "cell_type": "code",
     "checksum": "325ea195519b7035934c95bb529a062c",
     "grade": false,
     "grade_id": "cell-e5bfa0f152d9a21f",
     "locked": false,
     "schema_version": 3,
     "solution": true,
     "task": false
    }
   },
   "outputs": [],
   "source": [
    "## Please uncomment all lines in this cell and replace those marked with `# YOUR CODE HERE`.\n",
    "## You can select all lines in this code cell with Ctrl+A (Windows/Linux) or Cmd+A (Mac), then press Ctrl+/ (Windows/Linux) or Cmd+/ (Mac) to uncomment.\n",
    "\n",
    "\n",
    "\n",
    "# URL of the white wine dataset\n",
    "URI = './winequality-white.csv'\n",
    "\n",
    "# load the dataset from the URL\n",
    "white_df = pd.read_csv(URI, sep=\";\")\n",
    "\n",
    "# fill the `is_red` column with zeros.\n",
    "white_df[\"is_red\"] = 0 # YOUR CODE HERE\n",
    "\n",
    "# keep only the first of duplicate items\n",
    "white_df = white_df.drop_duplicates(keep='first')\n"
   ]
  },
  {
   "cell_type": "code",
   "execution_count": 36,
   "metadata": {
    "deletable": false,
    "editable": false,
    "nbgrader": {
     "cell_type": "code",
     "checksum": "defe38d6ec58fd31cd67b89e46c4373f",
     "grade": true,
     "grade_id": "cell-30575e713b55fc51",
     "locked": true,
     "points": 1,
     "schema_version": 3,
     "solution": false,
     "task": false
    }
   },
   "outputs": [
    {
     "name": "stdout",
     "output_type": "stream",
     "text": [
      "\u001b[92m All public tests passed\n"
     ]
    }
   ],
   "source": [
    "# You can click `File -> Open` in the menu above and open the `utils.py` file \n",
    "# in case you want to inspect the unit tests being used for each graded function.\n",
    "\n",
    "utils.test_white_df(white_df)\n"
   ]
  },
  {
   "cell_type": "code",
   "execution_count": 37,
   "metadata": {
    "colab": {},
    "colab_type": "code",
    "id": "OQHK0ohBQRCk"
   },
   "outputs": [
    {
     "name": "stdout",
     "output_type": "stream",
     "text": [
      "8.8\n",
      "9.1\n"
     ]
    }
   ],
   "source": [
    "print(white_df.alcohol[0])\n",
    "print(white_df.alcohol[100])\n",
    "\n",
    "# EXPECTED OUTPUT\n",
    "# 8.8\n",
    "# 9.1"
   ]
  },
  {
   "cell_type": "markdown",
   "metadata": {},
   "source": [
    "### Pre-process the red wine dataset (TODO)\n",
    "- In the red wine dataset, you will fill in the column `is_red` with ones (1)."
   ]
  },
  {
   "cell_type": "code",
   "execution_count": 38,
   "metadata": {
    "colab": {},
    "colab_type": "code",
    "deletable": false,
    "id": "8y3QxKwBed8v",
    "nbgrader": {
     "cell_type": "code",
     "checksum": "12e0963d15be33b01b4e6ebc8945e51e",
     "grade": false,
     "grade_id": "cell-e47a40f306593274",
     "locked": false,
     "schema_version": 3,
     "solution": true,
     "task": false
    }
   },
   "outputs": [],
   "source": [
    "## Please uncomment all lines in this cell and replace those marked with `# YOUR CODE HERE`.\n",
    "## You can select all lines in this code cell with Ctrl+A (Windows/Linux) or Cmd+A (Mac), then press Ctrl+/ (Windows/Linux) or Cmd+/ (Mac) to uncomment.\n",
    "\n",
    "\n",
    "\n",
    "# URL of the red wine dataset\n",
    "URI = './winequality-red.csv'\n",
    "\n",
    "# load the dataset from the URL\n",
    "red_df = pd.read_csv(URI, sep=\";\")\n",
    "\n",
    "# fill the `is_red` column with ones.\n",
    "red_df[\"is_red\"] = 1 # YOUR CODE HERE\n",
    "\n",
    "# keep only the first of duplicate items\n",
    "red_df = red_df.drop_duplicates(keep='first')\n"
   ]
  },
  {
   "cell_type": "code",
   "execution_count": 39,
   "metadata": {
    "deletable": false,
    "editable": false,
    "nbgrader": {
     "cell_type": "code",
     "checksum": "d8e0c91b0fd668b63ba74a8f2f958b59",
     "grade": true,
     "grade_id": "cell-2a75937adcc0c25b",
     "locked": true,
     "points": 1,
     "schema_version": 3,
     "solution": false,
     "task": false
    }
   },
   "outputs": [
    {
     "name": "stdout",
     "output_type": "stream",
     "text": [
      "\u001b[92m All public tests passed\n"
     ]
    }
   ],
   "source": [
    "utils.test_red_df(red_df)\n"
   ]
  },
  {
   "cell_type": "code",
   "execution_count": 40,
   "metadata": {
    "colab": {},
    "colab_type": "code",
    "id": "zsB3LUzNQpo_"
   },
   "outputs": [
    {
     "name": "stdout",
     "output_type": "stream",
     "text": [
      "9.4\n",
      "10.2\n"
     ]
    }
   ],
   "source": [
    "print(red_df.alcohol[0])\n",
    "print(red_df.alcohol[100])\n",
    "\n",
    "# EXPECTED OUTPUT\n",
    "# 9.4\n",
    "# 10.2"
   ]
  },
  {
   "cell_type": "markdown",
   "metadata": {
    "colab_type": "text",
    "id": "2G8B-NYuM6-f"
   },
   "source": [
    "### Concatenate the datasets\n",
    "\n",
    "Next, concatenate the red and white wine dataframes."
   ]
  },
  {
   "cell_type": "code",
   "execution_count": 41,
   "metadata": {
    "colab": {},
    "colab_type": "code",
    "id": "YpQrOjJbfN3m"
   },
   "outputs": [],
   "source": [
    "df = pd.concat([red_df, white_df], ignore_index=True)"
   ]
  },
  {
   "cell_type": "code",
   "execution_count": 42,
   "metadata": {
    "colab": {},
    "colab_type": "code",
    "id": "Se2dTmThQyjb"
   },
   "outputs": [
    {
     "name": "stdout",
     "output_type": "stream",
     "text": [
      "9.4\n",
      "9.5\n"
     ]
    }
   ],
   "source": [
    "print(df.alcohol[0])\n",
    "print(df.alcohol[100])\n",
    "\n",
    "# EXPECTED OUTPUT\n",
    "# 9.4\n",
    "# 9.5"
   ]
  },
  {
   "cell_type": "markdown",
   "metadata": {},
   "source": [
    "In a real-world scenario, you should shuffle the data. For this assignment however, **you are not** going to do that because the grader needs to test with deterministic data. If you want the code to do it **after** you've gotten your grade for this notebook, we left the commented line below for reference"
   ]
  },
  {
   "cell_type": "code",
   "execution_count": 43,
   "metadata": {
    "colab": {},
    "colab_type": "code",
    "id": "wx6y3rPpQv4k"
   },
   "outputs": [],
   "source": [
    "#df = df.iloc[np.random.permutation(len(df))]"
   ]
  },
  {
   "cell_type": "markdown",
   "metadata": {
    "colab_type": "text",
    "id": "-EqIcbg5M_n1"
   },
   "source": [
    "This will chart the quality of the wines."
   ]
  },
  {
   "cell_type": "code",
   "execution_count": 44,
   "metadata": {
    "colab": {},
    "colab_type": "code",
    "id": "IsvK0-Sgy17C"
   },
   "outputs": [
    {
     "data": {
      "image/png": "[encoded data removed]",
      "text/plain": [
       "<Figure size 432x288 with 1 Axes>"
      ]
     },
     "metadata": {
      "needs_background": "light"
     },
     "output_type": "display_data"
    }
   ],
   "source": [
    "df['quality'].hist(bins=20);"
   ]
  },
  {
   "cell_type": "markdown",
   "metadata": {
    "colab_type": "text",
    "id": "Nut1rmYLzf-p"
   },
   "source": [
    "### Imbalanced data (TODO)\n",
    "You can see from the plot above that the wine quality dataset is imbalanced. \n",
    "- Since there are very few observations with quality equal to 3, 4, 8 and 9, you can drop these observations from your dataset. \n",
    "- You can do this by removing data belonging to all classes except those > 4 and < 8."
   ]
  },
  {
   "cell_type": "code",
   "execution_count": 45,
   "metadata": {
    "colab": {},
    "colab_type": "code",
    "deletable": false,
    "id": "doH9_-gnf3sz",
    "nbgrader": {
     "cell_type": "code",
     "checksum": "d9ba9fc3a3ca02ccc567be33652b80fe",
     "grade": false,
     "grade_id": "cell-6a3e9db696f6827b",
     "locked": false,
     "schema_version": 3,
     "solution": true,
     "task": false
    }
   },
   "outputs": [],
   "source": [
    "# Please uncomment all lines in this cell and replace those marked with `# YOUR CODE HERE`.\n",
    "# You can select all lines in this code cell with Ctrl+A (Windows/Linux) or Cmd+A (Mac), then press Ctrl+/ (Windows/Linux) or Cmd+/ (Mac) to uncomment.\n",
    "\n",
    "\n",
    "\n",
    "# get data with wine quality greater than 4 and less than 8\n",
    "#df = df[(df['quality'] > # YOUR CODE HERE) & (df['quality'] < YOUR CODE HERE )]\n",
    "df = df[(df['quality'] > 4) & (df['quality'] < 8 )]\n",
    "\n",
    "# reset index and drop the old one\n",
    "df = df.reset_index(drop=True)"
   ]
  },
  {
   "cell_type": "code",
   "execution_count": 46,
   "metadata": {
    "deletable": false,
    "editable": false,
    "nbgrader": {
     "cell_type": "code",
     "checksum": "281e1d86a4803560ed5892cd7eda4c01",
     "grade": true,
     "grade_id": "cell-aed3da719d4682c7",
     "locked": true,
     "points": 1,
     "schema_version": 3,
     "solution": false,
     "task": false
    }
   },
   "outputs": [
    {
     "name": "stdout",
     "output_type": "stream",
     "text": [
      "\u001b[92m All public tests passed\n"
     ]
    }
   ],
   "source": [
    "utils.test_df_drop(df)\n",
    "\n"
   ]
  },
  {
   "cell_type": "code",
   "execution_count": 47,
   "metadata": {
    "colab": {},
    "colab_type": "code",
    "id": "xNR1iAlMRPXO"
   },
   "outputs": [
    {
     "name": "stdout",
     "output_type": "stream",
     "text": [
      "9.4\n",
      "10.9\n"
     ]
    }
   ],
   "source": [
    "print(df.alcohol[0])\n",
    "print(df.alcohol[100])\n",
    "\n",
    "# EXPECTED OUTPUT\n",
    "# 9.4\n",
    "# 10.9"
   ]
  },
  {
   "cell_type": "markdown",
   "metadata": {
    "colab_type": "text",
    "id": "cwhuRpnVRTzG"
   },
   "source": [
    "You can plot again to see the new range of data and quality"
   ]
  },
  {
   "cell_type": "code",
   "execution_count": 48,
   "metadata": {
    "colab": {},
    "colab_type": "code",
    "id": "857ygzZiLgGg"
   },
   "outputs": [
    {
     "data": {
      "image/png": "[encoded data removed]",
      "text/plain": [
       "<Figure size 432x288 with 1 Axes>"
      ]
     },
     "metadata": {
      "needs_background": "light"
     },
     "output_type": "display_data"
    }
   ],
   "source": [
    "df['quality'].hist(bins=20);"
   ]
  },
  {
   "cell_type": "markdown",
   "metadata": {
    "colab_type": "text",
    "id": "n3k0vqSsp84t"
   },
   "source": [
    "### Train Test Split (TODO)\n",
    "\n",
    "Next, you can split the datasets into training, test and validation datasets.\n",
    "- The data frame should be split 80:20 into `train` and `test` sets.\n",
    "- The resulting `train` should then be split 80:20 into `train` and `val` sets.\n",
    "- The `train_test_split` parameter `test_size` takes a float value that ranges between 0. and 1, and represents the proportion of the dataset that is allocated to the test set.  The rest of the data is allocated to the training set."
   ]
  },
  {
   "cell_type": "code",
   "execution_count": 49,
   "metadata": {
    "colab": {},
    "colab_type": "code",
    "deletable": false,
    "id": "PAVIf2-fgRVY",
    "nbgrader": {
     "cell_type": "code",
     "checksum": "7f5738f4fb51d65adc9a8acbdf2b9970",
     "grade": false,
     "grade_id": "cell-91946cadf745206b",
     "locked": false,
     "schema_version": 3,
     "solution": true,
     "task": false
    }
   },
   "outputs": [],
   "source": [
    "## Please uncomment all lines in this cell and replace those marked with `# YOUR CODE HERE`.\n",
    "## You can select all lines in this code cell with Ctrl+A (Windows/Linux) or Cmd+A (Mac), then press Ctrl+/ (Windows/Linux) or Cmd+/ (Mac) to uncomment.\n",
    "\n",
    "\n",
    "\n",
    "## Please do not change the random_state parameter. This is needed for grading.\n",
    "\n",
    "# split df into 80:20 train and test sets\n",
    "#train, test = train_test_split(df, test_size=# YOUR CODE HERE, random_state = 1)\n",
    "train, test = train_test_split(df, test_size=.2, random_state = 1)\n",
    "                               \n",
    "# split train into 80:20 train and val sets\n",
    "#train, val = train_test_split(train, test_size=# YOUR CODE HERE, random_state = 1)\n",
    "train, val = train_test_split(train, test_size=.2, random_state = 1)                              "
   ]
  },
  {
   "cell_type": "code",
   "execution_count": 50,
   "metadata": {
    "colab": {},
    "colab_type": "code",
    "deletable": false,
    "editable": false,
    "id": "57h9LcEzRWpk",
    "nbgrader": {
     "cell_type": "code",
     "checksum": "42adbe9e66efac7c7a5f8cd73ac92f22",
     "grade": true,
     "grade_id": "cell-64b8b38cd0b965f6",
     "locked": true,
     "points": 1,
     "schema_version": 3,
     "solution": false,
     "task": false
    }
   },
   "outputs": [
    {
     "name": "stdout",
     "output_type": "stream",
     "text": [
      "\u001b[92m All public tests passed\n"
     ]
    }
   ],
   "source": [
    "utils.test_data_sizes(train.size, test.size, val.size)\n",
    "\n"
   ]
  },
  {
   "cell_type": "markdown",
   "metadata": {
    "colab_type": "text",
    "id": "RwTNu4KFqG-K"
   },
   "source": [
    "Here's where you can explore the training stats. You can pop the labels 'is_red' and 'quality' from the data as these will be used as the labels\n"
   ]
  },
  {
   "cell_type": "code",
   "execution_count": 51,
   "metadata": {
    "colab": {},
    "colab_type": "code",
    "id": "Y_afyhhHM6WQ"
   },
   "outputs": [],
   "source": [
    "train_stats = train.describe()\n",
    "train_stats.pop('is_red')\n",
    "train_stats.pop('quality')\n",
    "train_stats = train_stats.transpose()"
   ]
  },
  {
   "cell_type": "markdown",
   "metadata": {
    "colab_type": "text",
    "id": "ahvbYm4fNqSt"
   },
   "source": [
    "Explore the training stats!"
   ]
  },
  {
   "cell_type": "code",
   "execution_count": 52,
   "metadata": {
    "colab": {},
    "colab_type": "code",
    "id": "n_gAtPjZ0otF"
   },
   "outputs": [
    {
     "data": {
      "text/html": [
       "<div>\n",
       "<style scoped>\n",
       "    .dataframe tbody tr th:only-of-type {\n",
       "        vertical-align: middle;\n",
       "    }\n",
       "\n",
       "    .dataframe tbody tr th {\n",
       "        vertical-align: top;\n",
       "    }\n",
       "\n",
       "    .dataframe thead th {\n",
       "        text-align: right;\n",
       "    }\n",
       "</style>\n",
       "<table border=\"1\" class=\"dataframe\">\n",
       "  <thead>\n",
       "    <tr style=\"text-align: right;\">\n",
       "      <th></th>\n",
       "      <th>count</th>\n",
       "      <th>mean</th>\n",
       "      <th>std</th>\n",
       "      <th>min</th>\n",
       "      <th>25%</th>\n",
       "      <th>50%</th>\n",
       "      <th>75%</th>\n",
       "      <th>max</th>\n",
       "    </tr>\n",
       "  </thead>\n",
       "  <tbody>\n",
       "    <tr>\n",
       "      <th>fixed acidity</th>\n",
       "      <td>3155.0</td>\n",
       "      <td>7.221616</td>\n",
       "      <td>1.325297</td>\n",
       "      <td>3.80000</td>\n",
       "      <td>6.40000</td>\n",
       "      <td>7.00000</td>\n",
       "      <td>7.7000</td>\n",
       "      <td>15.60000</td>\n",
       "    </tr>\n",
       "    <tr>\n",
       "      <th>volatile acidity</th>\n",
       "      <td>3155.0</td>\n",
       "      <td>0.338929</td>\n",
       "      <td>0.162476</td>\n",
       "      <td>0.08000</td>\n",
       "      <td>0.23000</td>\n",
       "      <td>0.29000</td>\n",
       "      <td>0.4000</td>\n",
       "      <td>1.24000</td>\n",
       "    </tr>\n",
       "    <tr>\n",
       "      <th>citric acid</th>\n",
       "      <td>3155.0</td>\n",
       "      <td>0.321569</td>\n",
       "      <td>0.147970</td>\n",
       "      <td>0.00000</td>\n",
       "      <td>0.25000</td>\n",
       "      <td>0.31000</td>\n",
       "      <td>0.4000</td>\n",
       "      <td>1.66000</td>\n",
       "    </tr>\n",
       "    <tr>\n",
       "      <th>residual sugar</th>\n",
       "      <td>3155.0</td>\n",
       "      <td>5.155911</td>\n",
       "      <td>4.639632</td>\n",
       "      <td>0.60000</td>\n",
       "      <td>1.80000</td>\n",
       "      <td>2.80000</td>\n",
       "      <td>7.6500</td>\n",
       "      <td>65.80000</td>\n",
       "    </tr>\n",
       "    <tr>\n",
       "      <th>chlorides</th>\n",
       "      <td>3155.0</td>\n",
       "      <td>0.056976</td>\n",
       "      <td>0.036802</td>\n",
       "      <td>0.01200</td>\n",
       "      <td>0.03800</td>\n",
       "      <td>0.04700</td>\n",
       "      <td>0.0660</td>\n",
       "      <td>0.61100</td>\n",
       "    </tr>\n",
       "    <tr>\n",
       "      <th>free sulfur dioxide</th>\n",
       "      <td>3155.0</td>\n",
       "      <td>30.388590</td>\n",
       "      <td>17.236784</td>\n",
       "      <td>1.00000</td>\n",
       "      <td>17.00000</td>\n",
       "      <td>28.00000</td>\n",
       "      <td>41.0000</td>\n",
       "      <td>131.00000</td>\n",
       "    </tr>\n",
       "    <tr>\n",
       "      <th>total sulfur dioxide</th>\n",
       "      <td>3155.0</td>\n",
       "      <td>115.062282</td>\n",
       "      <td>56.706617</td>\n",
       "      <td>6.00000</td>\n",
       "      <td>75.00000</td>\n",
       "      <td>117.00000</td>\n",
       "      <td>156.0000</td>\n",
       "      <td>344.00000</td>\n",
       "    </tr>\n",
       "    <tr>\n",
       "      <th>density</th>\n",
       "      <td>3155.0</td>\n",
       "      <td>0.994633</td>\n",
       "      <td>0.003005</td>\n",
       "      <td>0.98711</td>\n",
       "      <td>0.99232</td>\n",
       "      <td>0.99481</td>\n",
       "      <td>0.9968</td>\n",
       "      <td>1.03898</td>\n",
       "    </tr>\n",
       "    <tr>\n",
       "      <th>pH</th>\n",
       "      <td>3155.0</td>\n",
       "      <td>3.223201</td>\n",
       "      <td>0.161272</td>\n",
       "      <td>2.72000</td>\n",
       "      <td>3.11000</td>\n",
       "      <td>3.21000</td>\n",
       "      <td>3.3300</td>\n",
       "      <td>4.01000</td>\n",
       "    </tr>\n",
       "    <tr>\n",
       "      <th>sulphates</th>\n",
       "      <td>3155.0</td>\n",
       "      <td>0.534051</td>\n",
       "      <td>0.149149</td>\n",
       "      <td>0.22000</td>\n",
       "      <td>0.43000</td>\n",
       "      <td>0.51000</td>\n",
       "      <td>0.6000</td>\n",
       "      <td>1.95000</td>\n",
       "    </tr>\n",
       "    <tr>\n",
       "      <th>alcohol</th>\n",
       "      <td>3155.0</td>\n",
       "      <td>10.504466</td>\n",
       "      <td>1.154654</td>\n",
       "      <td>8.50000</td>\n",
       "      <td>9.50000</td>\n",
       "      <td>10.30000</td>\n",
       "      <td>11.3000</td>\n",
       "      <td>14.00000</td>\n",
       "    </tr>\n",
       "  </tbody>\n",
       "</table>\n",
       "</div>"
      ],
      "text/plain": [
       "                       count        mean        std      min       25%  \\\n",
       "fixed acidity         3155.0    7.221616   1.325297  3.80000   6.40000   \n",
       "volatile acidity      3155.0    0.338929   0.162476  0.08000   0.23000   \n",
       "citric acid           3155.0    0.321569   0.147970  0.00000   0.25000   \n",
       "residual sugar        3155.0    5.155911   4.639632  0.60000   1.80000   \n",
       "chlorides             3155.0    0.056976   0.036802  0.01200   0.03800   \n",
       "free sulfur dioxide   3155.0   30.388590  17.236784  1.00000  17.00000   \n",
       "total sulfur dioxide  3155.0  115.062282  56.706617  6.00000  75.00000   \n",
       "density               3155.0    0.994633   0.003005  0.98711   0.99232   \n",
       "pH                    3155.0    3.223201   0.161272  2.72000   3.11000   \n",
       "sulphates             3155.0    0.534051   0.149149  0.22000   0.43000   \n",
       "alcohol               3155.0   10.504466   1.154654  8.50000   9.50000   \n",
       "\n",
       "                            50%       75%        max  \n",
       "fixed acidity           7.00000    7.7000   15.60000  \n",
       "volatile acidity        0.29000    0.4000    1.24000  \n",
       "citric acid             0.31000    0.4000    1.66000  \n",
       "residual sugar          2.80000    7.6500   65.80000  \n",
       "chlorides               0.04700    0.0660    0.61100  \n",
       "free sulfur dioxide    28.00000   41.0000  131.00000  \n",
       "total sulfur dioxide  117.00000  156.0000  344.00000  \n",
       "density                 0.99481    0.9968    1.03898  \n",
       "pH                      3.21000    3.3300    4.01000  \n",
       "sulphates               0.51000    0.6000    1.95000  \n",
       "alcohol                10.30000   11.3000   14.00000  "
      ]
     },
     "execution_count": 52,
     "metadata": {},
     "output_type": "execute_result"
    }
   ],
   "source": [
    "train_stats"
   ]
  },
  {
   "cell_type": "markdown",
   "metadata": {
    "colab_type": "text",
    "id": "bGPvt9jir_HC"
   },
   "source": [
    "### Get the labels (TODO)\n",
    "\n",
    "The features and labels are currently in the same dataframe.\n",
    "- You will want to store the label columns `is_red` and `quality` separately from the feature columns.  \n",
    "- The following function, `format_output`, gets these two columns from the dataframe (it's given to you).\n",
    "- `format_output` also formats the data into numpy arrays. \n",
    "- Please use the `format_output` and apply it to the `train`, `val` and `test` sets to get dataframes for the labels."
   ]
  },
  {
   "cell_type": "code",
   "execution_count": 53,
   "metadata": {
    "colab": {},
    "colab_type": "code",
    "id": "Z_fs14XQqZVP"
   },
   "outputs": [],
   "source": [
    "def format_output(data):\n",
    "    is_red = data.pop('is_red')\n",
    "    is_red = np.array(is_red)\n",
    "    quality = data.pop('quality')\n",
    "    quality = np.array(quality)\n",
    "    return (quality, is_red)"
   ]
  },
  {
   "cell_type": "code",
   "execution_count": 54,
   "metadata": {
    "colab": {},
    "colab_type": "code",
    "deletable": false,
    "id": "8L3ZZe1fQicm",
    "nbgrader": {
     "cell_type": "code",
     "checksum": "7a86809e54895a816434c48dc903f55d",
     "grade": false,
     "grade_id": "cell-5c30fa2c2a354b0f",
     "locked": false,
     "schema_version": 3,
     "solution": true,
     "task": false
    }
   },
   "outputs": [],
   "source": [
    "## Please uncomment all lines in this cell and replace those marked with `# YOUR CODE HERE`.\n",
    "## You can select all lines in this code cell with Ctrl+A (Windows/Linux) or Cmd+A (Mac), then press Ctrl+/ (Windows/Linux) or Cmd+/ (Mac) to uncomment.\n",
    "\n",
    "\n",
    "\n",
    "# format the output of the train set\n",
    "train_Y = format_output(train)\n",
    "\n",
    "# format the output of the val set\n",
    "val_Y = format_output(val)\n",
    "    \n",
    "# format the output of the test set\n",
    "test_Y = format_output(test)"
   ]
  },
  {
   "cell_type": "code",
   "execution_count": 55,
   "metadata": {
    "deletable": false,
    "editable": false,
    "nbgrader": {
     "cell_type": "code",
     "checksum": "359cabbafaed14ec9bbc1e57a7b6f32c",
     "grade": true,
     "grade_id": "cell-4977d8befb80f56b",
     "locked": true,
     "points": 1,
     "schema_version": 3,
     "solution": false,
     "task": false
    }
   },
   "outputs": [
    {
     "name": "stdout",
     "output_type": "stream",
     "text": [
      "\u001b[92m All public tests passed\n"
     ]
    }
   ],
   "source": [
    "utils.test_format_output(df, train_Y, val_Y, test_Y)"
   ]
  },
  {
   "cell_type": "markdown",
   "metadata": {},
   "source": [
    "Notice that after you get the labels, the `train`, `val` and `test` dataframes no longer contain the label columns, and contain just the feature columns.\n",
    "- This is because you used `.pop` in the `format_output` function."
   ]
  },
  {
   "cell_type": "code",
   "execution_count": 56,
   "metadata": {},
   "outputs": [
    {
     "data": {
      "text/html": [
       "<div>\n",
       "<style scoped>\n",
       "    .dataframe tbody tr th:only-of-type {\n",
       "        vertical-align: middle;\n",
       "    }\n",
       "\n",
       "    .dataframe tbody tr th {\n",
       "        vertical-align: top;\n",
       "    }\n",
       "\n",
       "    .dataframe thead th {\n",
       "        text-align: right;\n",
       "    }\n",
       "</style>\n",
       "<table border=\"1\" class=\"dataframe\">\n",
       "  <thead>\n",
       "    <tr style=\"text-align: right;\">\n",
       "      <th></th>\n",
       "      <th>fixed acidity</th>\n",
       "      <th>volatile acidity</th>\n",
       "      <th>citric acid</th>\n",
       "      <th>residual sugar</th>\n",
       "      <th>chlorides</th>\n",
       "      <th>free sulfur dioxide</th>\n",
       "      <th>total sulfur dioxide</th>\n",
       "      <th>density</th>\n",
       "      <th>pH</th>\n",
       "      <th>sulphates</th>\n",
       "      <th>alcohol</th>\n",
       "    </tr>\n",
       "  </thead>\n",
       "  <tbody>\n",
       "    <tr>\n",
       "      <th>225</th>\n",
       "      <td>7.5</td>\n",
       "      <td>0.65</td>\n",
       "      <td>0.18</td>\n",
       "      <td>7.0</td>\n",
       "      <td>0.088</td>\n",
       "      <td>27.0</td>\n",
       "      <td>94.0</td>\n",
       "      <td>0.99915</td>\n",
       "      <td>3.38</td>\n",
       "      <td>0.77</td>\n",
       "      <td>9.4</td>\n",
       "    </tr>\n",
       "    <tr>\n",
       "      <th>3557</th>\n",
       "      <td>6.3</td>\n",
       "      <td>0.27</td>\n",
       "      <td>0.29</td>\n",
       "      <td>12.2</td>\n",
       "      <td>0.044</td>\n",
       "      <td>59.0</td>\n",
       "      <td>196.0</td>\n",
       "      <td>0.99782</td>\n",
       "      <td>3.14</td>\n",
       "      <td>0.40</td>\n",
       "      <td>8.8</td>\n",
       "    </tr>\n",
       "    <tr>\n",
       "      <th>3825</th>\n",
       "      <td>8.8</td>\n",
       "      <td>0.27</td>\n",
       "      <td>0.25</td>\n",
       "      <td>5.0</td>\n",
       "      <td>0.024</td>\n",
       "      <td>52.0</td>\n",
       "      <td>99.0</td>\n",
       "      <td>0.99250</td>\n",
       "      <td>2.87</td>\n",
       "      <td>0.49</td>\n",
       "      <td>11.4</td>\n",
       "    </tr>\n",
       "    <tr>\n",
       "      <th>1740</th>\n",
       "      <td>6.4</td>\n",
       "      <td>0.45</td>\n",
       "      <td>0.07</td>\n",
       "      <td>1.1</td>\n",
       "      <td>0.030</td>\n",
       "      <td>10.0</td>\n",
       "      <td>131.0</td>\n",
       "      <td>0.99050</td>\n",
       "      <td>2.97</td>\n",
       "      <td>0.28</td>\n",
       "      <td>10.8</td>\n",
       "    </tr>\n",
       "    <tr>\n",
       "      <th>1221</th>\n",
       "      <td>7.2</td>\n",
       "      <td>0.53</td>\n",
       "      <td>0.13</td>\n",
       "      <td>2.0</td>\n",
       "      <td>0.058</td>\n",
       "      <td>18.0</td>\n",
       "      <td>22.0</td>\n",
       "      <td>0.99573</td>\n",
       "      <td>3.21</td>\n",
       "      <td>0.68</td>\n",
       "      <td>9.9</td>\n",
       "    </tr>\n",
       "  </tbody>\n",
       "</table>\n",
       "</div>"
      ],
      "text/plain": [
       "      fixed acidity  volatile acidity  citric acid  residual sugar  chlorides  \\\n",
       "225             7.5              0.65         0.18             7.0      0.088   \n",
       "3557            6.3              0.27         0.29            12.2      0.044   \n",
       "3825            8.8              0.27         0.25             5.0      0.024   \n",
       "1740            6.4              0.45         0.07             1.1      0.030   \n",
       "1221            7.2              0.53         0.13             2.0      0.058   \n",
       "\n",
       "      free sulfur dioxide  total sulfur dioxide  density    pH  sulphates  \\\n",
       "225                  27.0                  94.0  0.99915  3.38       0.77   \n",
       "3557                 59.0                 196.0  0.99782  3.14       0.40   \n",
       "3825                 52.0                  99.0  0.99250  2.87       0.49   \n",
       "1740                 10.0                 131.0  0.99050  2.97       0.28   \n",
       "1221                 18.0                  22.0  0.99573  3.21       0.68   \n",
       "\n",
       "      alcohol  \n",
       "225       9.4  \n",
       "3557      8.8  \n",
       "3825     11.4  \n",
       "1740     10.8  \n",
       "1221      9.9  "
      ]
     },
     "execution_count": 56,
     "metadata": {},
     "output_type": "execute_result"
    }
   ],
   "source": [
    "train.head()"
   ]
  },
  {
   "cell_type": "markdown",
   "metadata": {
    "colab_type": "text",
    "id": "hEdbrruAsN1D"
   },
   "source": [
    "### Normalize the data (TODO)\n",
    "\n",
    "Next, you can normalize the data, x, using the formula:\n",
    "$$x_{norm} = \\frac{x - \\mu}{\\sigma}$$\n",
    "- The `norm` function is defined for you.\n",
    "- Please apply the `norm` function to normalize the dataframes that contains the feature columns of `train`, `val` and `test` sets."
   ]
  },
  {
   "cell_type": "code",
   "execution_count": 57,
   "metadata": {
    "colab": {},
    "colab_type": "code",
    "id": "WWiZPAHCLjUs"
   },
   "outputs": [],
   "source": [
    "def norm(x):\n",
    "    return (x - train_stats['mean']) / train_stats['std']"
   ]
  },
  {
   "cell_type": "code",
   "execution_count": 58,
   "metadata": {
    "colab": {},
    "colab_type": "code",
    "deletable": false,
    "id": "JEaOi2I2Lk69",
    "nbgrader": {
     "cell_type": "code",
     "checksum": "6bc0cdcb563d192f271067aa3373ff32",
     "grade": false,
     "grade_id": "cell-d8416d975c371095",
     "locked": false,
     "schema_version": 3,
     "solution": true,
     "task": false
    }
   },
   "outputs": [],
   "source": [
    "## Please uncomment all lines in this cell and replace those marked with `# YOUR CODE HERE`.\n",
    "## You can select all lines in this code cell with Ctrl+A (Windows/Linux) or Cmd+A (Mac), then press Ctrl+/ (Windows/Linux) or Cmd+/ (Mac) to uncomment.\n",
    "\n",
    "\n",
    "\n",
    "# normalize the train set\n",
    "norm_train_X = norm(train)\n",
    "    \n",
    "# normalize the val set\n",
    "norm_val_X = norm(val)\n",
    "    \n",
    "# normalize the test set\n",
    "norm_test_X = norm(test)"
   ]
  },
  {
   "cell_type": "code",
   "execution_count": 59,
   "metadata": {
    "deletable": false,
    "editable": false,
    "nbgrader": {
     "cell_type": "code",
     "checksum": "4f567db45bf40191601780379cc100b8",
     "grade": true,
     "grade_id": "cell-97fad979d157529b",
     "locked": true,
     "points": 1,
     "schema_version": 3,
     "solution": false,
     "task": false
    }
   },
   "outputs": [
    {
     "name": "stdout",
     "output_type": "stream",
     "text": [
      "\u001b[92m All public tests passed\n"
     ]
    }
   ],
   "source": [
    "utils.test_norm(norm_train_X, norm_val_X, norm_test_X, train, val, test)\n"
   ]
  },
  {
   "cell_type": "markdown",
   "metadata": {
    "colab_type": "text",
    "id": "hzykDwQhsaPO"
   },
   "source": [
    "## Define the Model (TODO)\n",
    "\n",
    "Define the model using the functional API. The base model will be 2 `Dense` layers of 128 neurons each, and have the `'relu'` activation.\n",
    "- Check out the documentation for [tf.keras.layers.Dense](https://www.tensorflow.org/api_docs/python/tf/keras/layers/Dense)"
   ]
  },
  {
   "cell_type": "code",
   "execution_count": 60,
   "metadata": {
    "colab": {},
    "colab_type": "code",
    "deletable": false,
    "id": "Rhcns3oTFkM6",
    "nbgrader": {
     "cell_type": "code",
     "checksum": "74b031247e569526552bf13a034a1c07",
     "grade": false,
     "grade_id": "cell-73fceedad1fe351c",
     "locked": false,
     "schema_version": 3,
     "solution": true,
     "task": false
    }
   },
   "outputs": [],
   "source": [
    "## Please uncomment all lines in this cell and replace those marked with `# YOUR CODE HERE`.\n",
    "## You can select all lines in this code cell with Ctrl+A (Windows/Linux) or Cmd+A (Mac), then press Ctrl+/ (Windows/Linux) or Cmd+/ (Mac) to uncomment.\n",
    "\n",
    "\n",
    "\n",
    "def base_model(inputs):\n",
    "    \n",
    "    # connect a Dense layer with 128 neurons and a relu activation\n",
    "    #x = # YOUR CODE HERE\n",
    "    x = tf.keras.layers.Dense(128, activation=tf.nn.relu)(inputs)\n",
    "    # connect another Dense layer with 128 neurons and a relu activation\n",
    "    #x = # YOUR CODE HERE\n",
    "    x = tf.keras.layers.Dense(128, activation=tf.nn.relu)(x)\n",
    "    return x\n",
    "  "
   ]
  },
  {
   "cell_type": "code",
   "execution_count": 61,
   "metadata": {
    "deletable": false,
    "editable": false,
    "nbgrader": {
     "cell_type": "code",
     "checksum": "9255924b3def80f679616e4c851a43e1",
     "grade": true,
     "grade_id": "cell-54f742a133353d75",
     "locked": true,
     "points": 1,
     "schema_version": 3,
     "solution": false,
     "task": false
    }
   },
   "outputs": [
    {
     "name": "stdout",
     "output_type": "stream",
     "text": [
      "\u001b[92m All public tests passed\n"
     ]
    }
   ],
   "source": [
    "utils.test_base_model(base_model)"
   ]
  },
  {
   "cell_type": "markdown",
   "metadata": {
    "colab_type": "text",
    "id": "xem_fcVws6Kz"
   },
   "source": [
    "# Define output layers of the model (TODO)\n",
    "\n",
    "You will add output layers to the base model. \n",
    "- The model will need two outputs.\n",
    "\n",
    "One output layer will predict wine quality, which is a numeric value.\n",
    "- Define a `Dense` layer with 1 neuron.\n",
    "- Since this is a regression output, the activation can be left as its default value `None`.\n",
    "\n",
    "The other output layer will predict the wine type, which is either red `1` or not red `0` (white).\n",
    "- Define a `Dense` layer with 1 neuron.\n",
    "- Since there are two possible categories, you can use a sigmoid activation for binary classification.\n",
    "\n",
    "Define the `Model`\n",
    "- Define the `Model` object, and set the following parameters:\n",
    "  - `inputs`: pass in the inputs to the model as a list.\n",
    "  - `outputs`: pass in a list of the outputs that you just defined: wine quality, then wine type.\n",
    "  - **Note**: please list the wine quality before wine type in the outputs, as this will affect the calculated loss if you choose the other order."
   ]
  },
  {
   "cell_type": "code",
   "execution_count": 62,
   "metadata": {
    "colab": {},
    "colab_type": "code",
    "deletable": false,
    "id": "n5UGF8PMVLPt",
    "nbgrader": {
     "cell_type": "code",
     "checksum": "76d35b90d20cdcbb22986cd8211057de",
     "grade": false,
     "grade_id": "cell-19e285f482f021fb",
     "locked": false,
     "schema_version": 3,
     "solution": true,
     "task": false
    }
   },
   "outputs": [],
   "source": [
    "## Please uncomment all lines in this cell and replace those marked with `# YOUR CODE HERE`.\n",
    "## You can select all lines in this code cell with Ctrl+A (Windows/Linux) or Cmd+A (Mac), then press Ctrl+/ (Windows/Linux) or Cmd+/ (Mac) to uncomment.\n",
    "\n",
    "\n",
    "\n",
    "def final_model(inputs):\n",
    "    \n",
    "    # get the base model\n",
    "    x = base_model(inputs)\n",
    "\n",
    "    # connect the output Dense layer for regression\n",
    "    wine_quality = Dense(units='1', name='wine_quality')(x)\n",
    "\n",
    "    # connect the output Dense layer for classification. this will use a sigmoid activation.\n",
    "    #wine_type = Dense(units='1', activation=# YOUR CODE HERE, name='wine_type')(x)\n",
    "    wine_type = Dense(units='1', activation='sigmoid', name='wine_type')(x)\n",
    "\n",
    "    # define the model using the input and output layers\n",
    "    #model = Model(inputs=# YOUR CODE HERE, outputs=# YOUR CODE HERE)\n",
    "    model = Model(inputs=inputs, outputs=[wine_quality, wine_type])# YOUR CODE HERE\n",
    "\n",
    "    return model"
   ]
  },
  {
   "cell_type": "code",
   "execution_count": 63,
   "metadata": {},
   "outputs": [
    {
     "name": "stdout",
     "output_type": "stream",
     "text": [
      "import numpy as np\r\n",
      "import tensorflow as tf\r\n",
      "from tensorflow.keras.models import Model\r\n",
      "from tensorflow.keras.layers import Dense, Input\r\n",
      "from sklearn.model_selection import train_test_split\r\n",
      "\r\n",
      "def test_loop(test_cases):\r\n",
      "    \r\n",
      "    success = 0\r\n",
      "    fails = 0\r\n",
      "    \r\n",
      "    for test_case in test_cases:\r\n",
      "        try:\r\n",
      "            assert test_case[\"result\"] == test_case[\"expected\"]\r\n",
      "            success += 1\r\n",
      "    \r\n",
      "        except:\r\n",
      "            fails += 1\r\n",
      "            print(f'{test_case[\"name\"]}: {test_case[\"error_message\"]}\\nExpected: {test_case[\"expected\"]}\\nResult: {test_case[\"result\"]}\\nPlease open utils.py if you want to see the unit test here.\\n')\r\n",
      "\r\n",
      "    if fails == 0:\r\n",
      "        print(\"\\033[92m All public tests passed\")\r\n",
      "\r\n",
      "    else:\r\n",
      "        print('\\033[92m', success,\" Tests passed\")\r\n",
      "        print('\\033[91m', fails, \" Tests failed\")\r\n",
      "        raise Exception(\"Please check the error messages above.\")\r\n",
      "        \r\n",
      "def test_white_df(white_df):\r\n",
      "    \r\n",
      "    test_cases = [\r\n",
      "        {\r\n",
      "            \"name\": \"type_check\",\r\n",
      "            \"result\": type(white_df.is_red[0]),\r\n",
      "            \"expected\": np.int64,\r\n",
      "            \"error_message\": f'white_df.is_red has an incorrect type.'\r\n",
      "        },\r\n",
      "        {\r\n",
      "            \"name\": \"output_check\",\r\n",
      "            \"result\": white_df.is_red[0],\r\n",
      "            \"expected\": 0,\r\n",
      "            \"error_message\": \"white_df.is_red is not set correctly\"\r\n",
      "        },\r\n",
      "        {\r\n",
      "            \"name\": \"len_check\",\r\n",
      "            \"result\": len(white_df),\r\n",
      "            \"expected\": 3961,\r\n",
      "            \"error_message\": \"Number of rows is incorrect. Please drop duplicates.\"\r\n",
      "        }\r\n",
      "    ]\r\n",
      "    \r\n",
      "    test_loop(test_cases)\r\n",
      "    \r\n",
      "def test_red_df(red_df):\r\n",
      "    \r\n",
      "    test_cases = [\r\n",
      "        {\r\n",
      "            \"name\": \"type_check\",\r\n",
      "            \"result\": type(red_df.is_red[0]),\r\n",
      "            \"expected\": np.int64,\r\n",
      "            \"error_message\": f'red_df.is_red has an incorrect type.'\r\n",
      "        },\r\n",
      "        {\r\n",
      "            \"name\": \"output_check\",\r\n",
      "            \"result\": red_df.is_red[0],\r\n",
      "            \"expected\": 1,\r\n",
      "            \"error_message\": \"red_df.is_red is not set correctly\"\r\n",
      "        },\r\n",
      "        {\r\n",
      "            \"name\": \"len_check\",\r\n",
      "            \"result\": len(red_df),\r\n",
      "            \"expected\": 1359,\r\n",
      "            \"error_message\": \"Number of rows is incorrect. Please drop duplicates.\"\r\n",
      "        }\r\n",
      "    ]\r\n",
      "    \r\n",
      "    test_loop(test_cases)\r\n",
      "    \r\n",
      "def test_df_drop(df):\r\n",
      "    \r\n",
      "    test_cases = [\r\n",
      "        {\r\n",
      "            \"name\": \"df.alcohol[0]_check\",\r\n",
      "            \"result\": df.alcohol[0],\r\n",
      "            \"expected\": 9.4,\r\n",
      "            \"error_message\": f'Value is not as expected. Please check quality interval.'\r\n",
      "        },\r\n",
      "        {\r\n",
      "            \"name\": \"df.alcohol[100]_check\",\r\n",
      "            \"result\": df.alcohol[100],\r\n",
      "            \"expected\": 10.9,\r\n",
      "            \"error_message\": f'Value is not as expected. Please check quality interval.'\r\n",
      "        }\r\n",
      "    ]\r\n",
      "    \r\n",
      "    test_loop(test_cases)\r\n",
      "\r\n",
      "def test_data_sizes(train_size, test_size, val_size):\r\n",
      "    \r\n",
      "    test_cases = [\r\n",
      "        {\r\n",
      "            \"name\": \"train_test_size_check\",\r\n",
      "            \"result\": train_size > test_size,\r\n",
      "            \"expected\": True,\r\n",
      "            \"error_message\": f'train.size is too small. Please check your code.'\r\n",
      "        },\r\n",
      "        {\r\n",
      "            \"name\": \"train_val_size_check\",\r\n",
      "            \"result\": train_size > val_size,\r\n",
      "            \"expected\": True,\r\n",
      "            \"error_message\": f'train.size is too small. Please check your code.'\r\n",
      "        },\r\n",
      "        {\r\n",
      "            \"name\": \"test_val_size_check\",\r\n",
      "            \"result\": test_size > val_size,\r\n",
      "            \"expected\": True,\r\n",
      "            \"error_message\": f'test.size is too small. Please check your code.'\r\n",
      "        }\r\n",
      "    ]\r\n",
      "    \r\n",
      "    test_loop(test_cases)\r\n",
      "\r\n",
      "def test_format_output(df, train_Y, val_Y, test_Y):\r\n",
      "    \r\n",
      "    train, test = train_test_split(df, test_size=0.2, random_state=1)\r\n",
      "    train, val = train_test_split(train, test_size=0.2, random_state=1)\r\n",
      "    \r\n",
      "    test_cases = [\r\n",
      "        {\r\n",
      "            \"name\": \"train_Y[0]_check\",\r\n",
      "            \"result\": np.all(train_Y[0] == np.array(train.quality)),\r\n",
      "            \"expected\": True,\r\n",
      "            \"error_message\": f'train_Y[0] is not equal to train.quality. Please check your code.'\r\n",
      "        },\r\n",
      "        {\r\n",
      "            \"name\": \"train_Y[1]_check\",\r\n",
      "            \"result\": np.all(train_Y[1] == np.array(train.is_red)),\r\n",
      "            \"expected\": True,\r\n",
      "            \"error_message\": f'train_Y[1] is not equal to train.is_red. Please check your code.'\r\n",
      "        },\r\n",
      "        {\r\n",
      "            \"name\": \"val_Y[0]_check\",\r\n",
      "            \"result\": np.all(val_Y[0] == np.array(val.quality)),\r\n",
      "            \"expected\": True,\r\n",
      "            \"error_message\": f'train_Y[0] is not equal to val.quality. Please check your code.'\r\n",
      "        },\r\n",
      "        {\r\n",
      "            \"name\": \"val_Y[1]_check\",\r\n",
      "            \"result\": np.all(val_Y[1] == np.array(val.is_red)),\r\n",
      "            \"expected\": True,\r\n",
      "            \"error_message\": f'train_Y[1] is not equal to val.is_red. Please check your code.'\r\n",
      "        },\r\n",
      "        {\r\n",
      "            \"name\": \"test_Y[0]_check\",\r\n",
      "            \"result\": np.all(test_Y[0] == np.array(test.quality)),\r\n",
      "            \"expected\": True,\r\n",
      "            \"error_message\": f'test_Y[0] is not equal to test.quality. Please check your code.'\r\n",
      "        },\r\n",
      "        {\r\n",
      "            \"name\": \"test_Y[1]_check\",\r\n",
      "            \"result\": np.all(test_Y[1] == np.array(test.is_red)),\r\n",
      "            \"expected\": True,\r\n",
      "            \"error_message\": f'test_Y[1] is not equal to test.is_red. Please check your code.'\r\n",
      "        }\r\n",
      "    ]\r\n",
      "    \r\n",
      "    test_loop(test_cases)\r\n",
      "\r\n",
      "def test_norm(norm_train_X, norm_val_X, norm_test_X, train, val, test):\r\n",
      "    \r\n",
      "    from pandas.core.frame import DataFrame\r\n",
      "    \r\n",
      "    test_cases = [\r\n",
      "        {\r\n",
      "            \"name\": \"norm_train_X_type_check\",\r\n",
      "            \"result\": type(norm_train_X),\r\n",
      "            \"expected\": DataFrame,\r\n",
      "            \"error_message\": f'norm_train_X has an incorrect type.'\r\n",
      "        },\r\n",
      "        {\r\n",
      "            \"name\": \"norm_val_X_type_check\",\r\n",
      "            \"result\": type(norm_val_X),\r\n",
      "            \"expected\": DataFrame,\r\n",
      "            \"error_message\": f'norm_val_X has an incorrect type.'\r\n",
      "        },\r\n",
      "        {\r\n",
      "            \"name\": \"norm_test_X_type_check\",\r\n",
      "            \"result\": type(norm_test_X),\r\n",
      "            \"expected\": DataFrame,\r\n",
      "            \"error_message\": f'norm_test_X has an incorrect type.'\r\n",
      "        },\r\n",
      "        {\r\n",
      "            \"name\": \"norm_train_X_length_check\",\r\n",
      "            \"result\": len(norm_train_X),\r\n",
      "            \"expected\": len(train),\r\n",
      "            \"error_message\": f'norm_train_X has an incorrect length.'\r\n",
      "        },\r\n",
      "        {\r\n",
      "            \"name\": \"norm_val_X_length_check\",\r\n",
      "            \"result\": len(norm_val_X),\r\n",
      "            \"expected\": len(val),\r\n",
      "            \"error_message\": f'norm_val_X has an incorrect length.'\r\n",
      "        },\r\n",
      "        {\r\n",
      "            \"name\": \"norm_test_X_length_check\",\r\n",
      "            \"result\": len(norm_test_X),\r\n",
      "            \"expected\": len(test),\r\n",
      "            \"error_message\": f'norm_test_X has an incorrect length.'\r\n",
      "        },\r\n",
      "    ]\r\n",
      "    \r\n",
      "    test_loop(test_cases)\r\n",
      "\r\n",
      "def test_base_model(base_model):\r\n",
      "    \r\n",
      "    test_inputs = tf.keras.layers.Input(shape=(11,))\r\n",
      "    test_output = base_model(test_inputs)\r\n",
      "    test_model = Model(inputs=test_inputs, outputs=test_output)\r\n",
      "\r\n",
      "    test_cases = [\r\n",
      "        {\r\n",
      "            \"name\": \"return_type_check\",\r\n",
      "            \"result\": type(test_output),\r\n",
      "            \"expected\": tf.Tensor,\r\n",
      "            \"error_message\": 'Return type is incorrect. Please check your code.'\r\n",
      "        },\r\n",
      "        {\r\n",
      "            \"name\": \"return_shape_check\",\r\n",
      "            \"result\": str(test_output.shape),\r\n",
      "            \"expected\": '(None, 128)',\r\n",
      "            \"error_message\": 'Return shape is incorrect. Please check your code.'\r\n",
      "        },\r\n",
      "        {\r\n",
      "            \"name\": \"tensor_dtype_check\",\r\n",
      "            \"result\": str(test_output.dtype),\r\n",
      "            \"expected\": \"<dtype: 'float32'>\",\r\n",
      "            \"error_message\": 'model dtype is incorrect. Please check your code.'\r\n",
      "        },\r\n",
      "        {\r\n",
      "            \"name\": \"base_model_num_layers_check\",\r\n",
      "            \"result\": len(test_model.layers),\r\n",
      "            \"expected\": 3,\r\n",
      "            \"error_message\": 'There are too many layers. Please check your code.'\r\n",
      "        },\r\n",
      "        {\r\n",
      "            \"name\": \"base_model_layer1_check\",\r\n",
      "            \"result\": type(test_model.layers[-2]),\r\n",
      "            \"expected\": Dense,\r\n",
      "            \"error_message\": 'First layer type is incorrect. Please check your code.'\r\n",
      "        },\r\n",
      "        {\r\n",
      "            \"name\": \"base_model_layer2_check\",\r\n",
      "            \"result\": type(test_model.layers[-1]),\r\n",
      "            \"expected\": Dense,\r\n",
      "            \"error_message\": 'Output layer type is incorrect. Please check your code.'\r\n",
      "        },\r\n",
      "    ]\r\n",
      "    \r\n",
      "    test_loop(test_cases)\r\n",
      "\r\n",
      "def test_final_model(final_model):\r\n",
      "    \r\n",
      "    test_inputs = tf.keras.layers.Input(shape=(11,))\r\n",
      "    test_output = final_model(test_inputs)\r\n",
      "\r\n",
      "    test_cases = [\r\n",
      "        {\r\n",
      "            \"name\": \"return_type_check\",\r\n",
      "            \"result\": type(test_output),\r\n",
      "            \"expected\": tf.keras.Model,\r\n",
      "            \"error_message\": 'Return type is incorrect. Please check your code.'\r\n",
      "        },\r\n",
      "        {\r\n",
      "            \"name\": \"layer_3_activation_check\",\r\n",
      "            \"result\": test_output.layers[4].activation,\r\n",
      "            \"expected\": tf.keras.activations.sigmoid,\r\n",
      "            \"error_message\": 'wine_quality layer has an incorrect activation. Please check your code.'\r\n",
      "        },\r\n",
      "    ]\r\n",
      "    \r\n",
      "    test_loop(test_cases)\r\n",
      "    \r\n",
      "def test_model_compile(model):\r\n",
      "\r\n",
      "    from tensorflow.python.keras.metrics import MeanMetricWrapper\r\n",
      "    \r\n",
      "    test_cases = [\r\n",
      "        {\r\n",
      "            \"name\": \"metrics_0_check\",\r\n",
      "            \"result\": type(model.metrics[0]),\r\n",
      "            \"expected\": tf.keras.metrics.RootMeanSquaredError,\r\n",
      "            \"error_message\": 'wine quality metrics is incorrect. Please check your code.'\r\n",
      "        },\r\n",
      "        {\r\n",
      "            \"name\": \"metrics_1_check\",\r\n",
      "            \"result\": (model.metrics[1].name == 'wine_type_accuracy') or \r\n",
      "                      (model.metrics[1].name == 'wine_type_binary_accuracy'),\r\n",
      "            \"expected\": True,\r\n",
      "            \"error_message\": f'wine type metrics: {model.metrics[1].name} is incorrect. Please check your code.'\r\n",
      "        },\r\n",
      "        {\r\n",
      "            \"name\": \"wine_type_loss_check\",\r\n",
      "            \"result\": (model.loss['wine_type'] == 'binary_crossentropy') or \r\n",
      "                      (model.loss['wine_type'].name == 'binary_crossentropy') or \r\n",
      "                      ('binary_crossentropy' in model.loss['wine_type']),\r\n",
      "            \"expected\": True,\r\n",
      "            \"error_message\": f'wine type loss: {model.loss[\"wine_type\"]} is incorrect. Please check your code.'\r\n",
      "        },\r\n",
      "        {\r\n",
      "            \"name\": \"wine_quality_loss_check\",\r\n",
      "            \"result\": (type(model.loss['wine_quality']) == tf.keras.losses.MeanSquaredError) or\r\n",
      "                      (model.loss['wine_quality'] in {'mse', 'mean_squared_error'}) or \r\n",
      "                      ('mean_squared_error' in model.loss['wine_quality']) or \r\n",
      "                      (model.loss['wine_quality'].name == 'mean_squared_error'),\r\n",
      "            \"expected\": True,\r\n",
      "            \"error_message\": f'wine quality loss: {model.loss[\"wine_quality\"]} is incorrect. Please check your code.'\r\n",
      "        }\r\n",
      "    ]\r\n",
      "    \r\n",
      "    test_loop(test_cases)\r\n",
      "    \r\n",
      "def test_history(history):\r\n",
      "\r\n",
      "    vars_history = vars(history)\r\n",
      "    \r\n",
      "    test_cases = [\r\n",
      "        {\r\n",
      "            \"name\": \"type_check\",\r\n",
      "            \"result\": type(history),\r\n",
      "            \"expected\": tf.keras.callbacks.History,\r\n",
      "            \"error_message\": 'history type is incorrect. Please check model.fit().'\r\n",
      "        },\r\n",
      "        {\r\n",
      "            \"name\": \"params_samples_check\",\r\n",
      "            \"result\": vars_history['params']['samples'],\r\n",
      "            \"expected\": 3155,\r\n",
      "            \"error_message\": 'Training samples is incorrect. Please check arguments to model.fit().'\r\n",
      "        },\r\n",
      "        {\r\n",
      "            \"name\": \"params_do_validation_check\",\r\n",
      "            \"result\": vars_history['params']['do_validation'],\r\n",
      "            \"expected\": True,\r\n",
      "            \"error_message\": 'No validation data is present. Please check arguments to model.fit().'\r\n",
      "        },\r\n",
      "    ]\r\n",
      "    \r\n",
      "    test_loop(test_cases)\r\n",
      "    \r\n",
      "    \r\n",
      "    \r\n",
      "    \r\n",
      "    \r\n",
      "    \r\n",
      "    \r\n",
      "    \r\n",
      "    \r\n",
      "    \r\n",
      "    \r\n",
      "    \r\n",
      "    \r\n",
      "    \r\n",
      "    \r\n",
      "    \r\n",
      "    \r\n",
      "    \r\n",
      "\r\n",
      "\r\n",
      "\r\n",
      "\r\n",
      "\r\n",
      "\r\n",
      "\r\n",
      "\r\n",
      "\r\n",
      "\r\n",
      "\r\n",
      "\r\n",
      "\r\n",
      "\r\n",
      "\r\n",
      "\r\n",
      "\r\n"
     ]
    }
   ],
   "source": [
    "!cat utils.py"
   ]
  },
  {
   "cell_type": "code",
   "execution_count": 64,
   "metadata": {
    "deletable": false,
    "editable": false,
    "nbgrader": {
     "cell_type": "code",
     "checksum": "89cbf89d8ab5e2e59ecf7f63f517520a",
     "grade": true,
     "grade_id": "cell-40d050f855c817d1",
     "locked": true,
     "points": 1,
     "schema_version": 3,
     "solution": false,
     "task": false
    }
   },
   "outputs": [
    {
     "name": "stdout",
     "output_type": "stream",
     "text": [
      "\u001b[92m All public tests passed\n"
     ]
    }
   ],
   "source": [
    "utils.test_final_model(final_model)"
   ]
  },
  {
   "cell_type": "markdown",
   "metadata": {
    "colab_type": "text",
    "id": "5R0BMTsltZyu"
   },
   "source": [
    "## Compiling the Model\n",
    "\n",
    "Next, compile the model. When setting the loss parameter of `model.compile`, you're setting the loss for each of the two outputs (wine quality and wine type).\n",
    "\n",
    "To set more than one loss, use a dictionary of key-value pairs.\n",
    "- You can look at the docs for the losses [here](https://www.tensorflow.org/api_docs/python/tf/keras/losses#functions).\n",
    "    - **Note**: For the desired spelling, please look at the \"Functions\" section of the documentation and not the \"classes\" section on that same page.\n",
    "- wine_type: Since you will be performing binary classification on wine type, you should use the binary crossentropy loss function for it.  Please pass this in as a string.  \n",
    "  - **Hint**, this should be all lowercase.  In the documentation, you'll see this under the \"Functions\" section, not the \"Classes\" section.\n",
    "- wine_quality: since this is a regression output, use the mean squared error.  Please pass it in as a string, all lowercase.\n",
    "  - **Hint**: You may notice that there are two aliases for mean squared error.  Please use the shorter name.\n",
    "\n",
    "\n",
    "You will also set the metric for each of the two outputs.  Again, to set metrics for two or more outputs, use a dictionary with key value pairs.\n",
    "- The metrics documentation is linked [here](https://www.tensorflow.org/api_docs/python/tf/keras/metrics).\n",
    "- For the wine type, please set it to accuracy as a string, all lowercase.\n",
    "- For wine quality, please use the root mean squared error.  Instead of a string, you'll set it to an instance of the class [RootMeanSquaredError](https://www.tensorflow.org/api_docs/python/tf/keras/metrics/RootMeanSquaredError), which belongs to the tf.keras.metrics module.\n",
    "\n",
    "**Note**: If you see the error message \n",
    ">Exception: wine quality loss function is incorrect.\n",
    "\n",
    "- Please also check your other losses and metrics, as the error may be caused by the other three key-value pairs and not the wine quality loss."
   ]
  },
  {
   "cell_type": "code",
   "execution_count": 65,
   "metadata": {
    "colab": {},
    "colab_type": "code",
    "deletable": false,
    "id": "LK11duUbUjmh",
    "nbgrader": {
     "cell_type": "code",
     "checksum": "22f45067ca69eb2ccadb43874dbcc27b",
     "grade": false,
     "grade_id": "cell-81afdc4dcca51d5e",
     "locked": false,
     "schema_version": 3,
     "solution": true,
     "task": false
    }
   },
   "outputs": [],
   "source": [
    "## Please uncomment all lines in this cell and replace those marked with `# YOUR CODE HERE`.\n",
    "## You can select all lines in this code cell with Ctrl+A (Windows/Linux) or Cmd+A (Mac), then press Ctrl+/ (Windows/Linux) or Cmd+/ (Mac) to uncomment.\n",
    "\n",
    "\n",
    "\n",
    "inputs = tf.keras.layers.Input(shape=(11,))\n",
    "rms = tf.keras.optimizers.RMSprop(lr=0.0001)\n",
    "model = final_model(inputs)\n",
    "\n",
    "model.compile(optimizer=rms, \n",
    "              loss = {'wine_type' : \"binary_crossentropy\", # YOUR CODE HERE,\n",
    "                      'wine_quality' : \"mean_squared_error\"# YOUR CODE HERE\n",
    "                     },\n",
    "              metrics = {'wine_type' : \"accuracy\", # YOUR CODE HERE,\n",
    "                         'wine_quality': tf.keras.metrics.RootMeanSquaredError() # YOUR CODE HERE\n",
    "                       }\n",
    "             )\n"
   ]
  },
  {
   "cell_type": "code",
   "execution_count": 66,
   "metadata": {
    "deletable": false,
    "editable": false,
    "nbgrader": {
     "cell_type": "code",
     "checksum": "88e02238ea5e456ff65e835cc8158054",
     "grade": true,
     "grade_id": "cell-2eeeba02391c4632",
     "locked": true,
     "points": 1,
     "schema_version": 3,
     "solution": false,
     "task": false
    }
   },
   "outputs": [
    {
     "name": "stdout",
     "output_type": "stream",
     "text": [
      "\u001b[92m All public tests passed\n"
     ]
    }
   ],
   "source": [
    "utils.test_model_compile(model)"
   ]
  },
  {
   "cell_type": "markdown",
   "metadata": {
    "colab_type": "text",
    "id": "90MpAMpWuKm-"
   },
   "source": [
    "## Training the Model (TODO)\n",
    "\n",
    "Fit the model to the training inputs and outputs. \n",
    "- Check the documentation for [model.fit](https://www.tensorflow.org/api_docs/python/tf/keras/Model#fit).\n",
    "- Remember to use the normalized training set as inputs. \n",
    "- For the validation data, please use the normalized validation set.\n",
    "\n",
    "**Important: Please do not increase the number of epochs below. This is to avoid the grader from timing out. You can increase it once you have submitted your work.**"
   ]
  },
  {
   "cell_type": "code",
   "execution_count": 76,
   "metadata": {
    "colab": {},
    "colab_type": "code",
    "deletable": false,
    "id": "_eiZkle4XwiY",
    "nbgrader": {
     "cell_type": "code",
     "checksum": "d1a4565296017a0611c6f2de675f96cf",
     "grade": false,
     "grade_id": "cell-0bb56262896f6680",
     "locked": false,
     "schema_version": 3,
     "solution": true,
     "task": false
    }
   },
   "outputs": [
    {
     "name": "stdout",
     "output_type": "stream",
     "text": [
      "Train on 3155 samples, validate on 789 samples\n",
      "Epoch 1/40\n",
      "3155/3155 [==============================] - 1s 320us/sample - loss: 23.5577 - wine_quality_loss: 22.7926 - wine_type_loss: 0.7350 - wine_quality_root_mean_squared_error: 4.7773 - wine_type_accuracy: 0.4190 - val_loss: 15.5279 - val_wine_quality_loss: 14.8640 - val_wine_type_loss: 0.6821 - val_wine_quality_root_mean_squared_error: 3.8530 - val_wine_type_accuracy: 0.5602\n",
      "Epoch 2/40\n",
      "3155/3155 [==============================] - 0s 102us/sample - loss: 9.9903 - wine_quality_loss: 9.3350 - wine_type_loss: 0.6329 - wine_quality_root_mean_squared_error: 3.0589 - wine_type_accuracy: 0.6767 - val_loss: 5.4302 - val_wine_quality_loss: 4.8827 - val_wine_type_loss: 0.5715 - val_wine_quality_root_mean_squared_error: 2.2041 - val_wine_type_accuracy: 0.7605\n",
      "Epoch 3/40\n",
      "3155/3155 [==============================] - 0s 98us/sample - loss: 3.8846 - wine_quality_loss: 3.3720 - wine_type_loss: 0.5050 - wine_quality_root_mean_squared_error: 1.8382 - wine_type_accuracy: 0.8060 - val_loss: 2.7934 - val_wine_quality_loss: 2.3754 - val_wine_type_loss: 0.4357 - val_wine_quality_root_mean_squared_error: 1.5353 - val_wine_type_accuracy: 0.8745\n",
      "Epoch 4/40\n",
      "3155/3155 [==============================] - 0s 98us/sample - loss: 2.6170 - wine_quality_loss: 2.2332 - wine_type_loss: 0.3804 - wine_quality_root_mean_squared_error: 1.4954 - wine_type_accuracy: 0.9192 - val_loss: 2.2436 - val_wine_quality_loss: 1.9245 - val_wine_type_loss: 0.3303 - val_wine_quality_root_mean_squared_error: 1.3831 - val_wine_type_accuracy: 0.9455\n",
      "Epoch 5/40\n",
      "3155/3155 [==============================] - 0s 95us/sample - loss: 2.1640 - wine_quality_loss: 1.8948 - wine_type_loss: 0.2866 - wine_quality_root_mean_squared_error: 1.3701 - wine_type_accuracy: 0.9651 - val_loss: 1.9249 - val_wine_quality_loss: 1.6827 - val_wine_type_loss: 0.2486 - val_wine_quality_root_mean_squared_error: 1.2946 - val_wine_type_accuracy: 0.9772\n",
      "Epoch 6/40\n",
      "3155/3155 [==============================] - 0s 94us/sample - loss: 1.8788 - wine_quality_loss: 1.6608 - wine_type_loss: 0.2168 - wine_quality_root_mean_squared_error: 1.2892 - wine_type_accuracy: 0.9838 - val_loss: 1.7118 - val_wine_quality_loss: 1.5241 - val_wine_type_loss: 0.1917 - val_wine_quality_root_mean_squared_error: 1.2328 - val_wine_type_accuracy: 0.9848\n",
      "Epoch 7/40\n",
      "3155/3155 [==============================] - 0s 95us/sample - loss: 1.6942 - wine_quality_loss: 1.5251 - wine_type_loss: 0.1705 - wine_quality_root_mean_squared_error: 1.2347 - wine_type_accuracy: 0.9876 - val_loss: 1.5562 - val_wine_quality_loss: 1.4084 - val_wine_type_loss: 0.1504 - val_wine_quality_root_mean_squared_error: 1.1856 - val_wine_type_accuracy: 0.9924\n",
      "Epoch 8/40\n",
      "3155/3155 [==============================] - 0s 94us/sample - loss: 1.5405 - wine_quality_loss: 1.4061 - wine_type_loss: 0.1342 - wine_quality_root_mean_squared_error: 1.1858 - wine_type_accuracy: 0.9892 - val_loss: 1.4279 - val_wine_quality_loss: 1.3083 - val_wine_type_loss: 0.1213 - val_wine_quality_root_mean_squared_error: 1.1430 - val_wine_type_accuracy: 0.9911\n",
      "Epoch 9/40\n",
      "3155/3155 [==============================] - 0s 95us/sample - loss: 1.4217 - wine_quality_loss: 1.3111 - wine_type_loss: 0.1103 - wine_quality_root_mean_squared_error: 1.1451 - wine_type_accuracy: 0.9895 - val_loss: 1.3139 - val_wine_quality_loss: 1.2155 - val_wine_type_loss: 0.0997 - val_wine_quality_root_mean_squared_error: 1.1018 - val_wine_type_accuracy: 0.9899\n",
      "Epoch 10/40\n",
      "3155/3155 [==============================] - 0s 95us/sample - loss: 1.3137 - wine_quality_loss: 1.2234 - wine_type_loss: 0.0926 - wine_quality_root_mean_squared_error: 1.1050 - wine_type_accuracy: 0.9899 - val_loss: 1.2249 - val_wine_quality_loss: 1.1409 - val_wine_type_loss: 0.0846 - val_wine_quality_root_mean_squared_error: 1.0678 - val_wine_type_accuracy: 0.9899\n",
      "Epoch 11/40\n",
      "3155/3155 [==============================] - 0s 93us/sample - loss: 1.2262 - wine_quality_loss: 1.1447 - wine_type_loss: 0.0801 - wine_quality_root_mean_squared_error: 1.0706 - wine_type_accuracy: 0.9899 - val_loss: 1.1578 - val_wine_quality_loss: 1.0850 - val_wine_type_loss: 0.0727 - val_wine_quality_root_mean_squared_error: 1.0415 - val_wine_type_accuracy: 0.9937\n",
      "Epoch 12/40\n",
      "3155/3155 [==============================] - 0s 95us/sample - loss: 1.1507 - wine_quality_loss: 1.0813 - wine_type_loss: 0.0704 - wine_quality_root_mean_squared_error: 1.0394 - wine_type_accuracy: 0.9902 - val_loss: 1.0740 - val_wine_quality_loss: 1.0095 - val_wine_type_loss: 0.0643 - val_wine_quality_root_mean_squared_error: 1.0047 - val_wine_type_accuracy: 0.9937\n",
      "Epoch 13/40\n",
      "3155/3155 [==============================] - 0s 95us/sample - loss: 1.0821 - wine_quality_loss: 1.0184 - wine_type_loss: 0.0631 - wine_quality_root_mean_squared_error: 1.0094 - wine_type_accuracy: 0.9911 - val_loss: 1.0139 - val_wine_quality_loss: 0.9555 - val_wine_type_loss: 0.0578 - val_wine_quality_root_mean_squared_error: 0.9777 - val_wine_type_accuracy: 0.9937\n",
      "Epoch 14/40\n",
      "3155/3155 [==============================] - 0s 95us/sample - loss: 1.0130 - wine_quality_loss: 0.9541 - wine_type_loss: 0.0572 - wine_quality_root_mean_squared_error: 0.9776 - wine_type_accuracy: 0.9914 - val_loss: 0.9480 - val_wine_quality_loss: 0.8946 - val_wine_type_loss: 0.0528 - val_wine_quality_root_mean_squared_error: 0.9460 - val_wine_type_accuracy: 0.9937\n",
      "Epoch 15/40\n",
      "3155/3155 [==============================] - 0s 96us/sample - loss: 0.9552 - wine_quality_loss: 0.9018 - wine_type_loss: 0.0530 - wine_quality_root_mean_squared_error: 0.9498 - wine_type_accuracy: 0.9918 - val_loss: 0.8972 - val_wine_quality_loss: 0.8474 - val_wine_type_loss: 0.0487 - val_wine_quality_root_mean_squared_error: 0.9210 - val_wine_type_accuracy: 0.9937\n",
      "Epoch 16/40\n",
      "3155/3155 [==============================] - 0s 95us/sample - loss: 0.9007 - wine_quality_loss: 0.8514 - wine_type_loss: 0.0493 - wine_quality_root_mean_squared_error: 0.9227 - wine_type_accuracy: 0.9918 - val_loss: 0.8449 - val_wine_quality_loss: 0.7979 - val_wine_type_loss: 0.0458 - val_wine_quality_root_mean_squared_error: 0.8937 - val_wine_type_accuracy: 0.9937\n",
      "Epoch 17/40\n",
      "3155/3155 [==============================] - 0s 94us/sample - loss: 0.8541 - wine_quality_loss: 0.8063 - wine_type_loss: 0.0465 - wine_quality_root_mean_squared_error: 0.8986 - wine_type_accuracy: 0.9914 - val_loss: 0.8012 - val_wine_quality_loss: 0.7565 - val_wine_type_loss: 0.0433 - val_wine_quality_root_mean_squared_error: 0.8704 - val_wine_type_accuracy: 0.9937\n",
      "Epoch 18/40\n",
      "3155/3155 [==============================] - 0s 93us/sample - loss: 0.8074 - wine_quality_loss: 0.7627 - wine_type_loss: 0.0439 - wine_quality_root_mean_squared_error: 0.8737 - wine_type_accuracy: 0.9918 - val_loss: 0.7672 - val_wine_quality_loss: 0.7244 - val_wine_type_loss: 0.0412 - val_wine_quality_root_mean_squared_error: 0.8519 - val_wine_type_accuracy: 0.9937\n",
      "Epoch 19/40\n",
      "3155/3155 [==============================] - 0s 94us/sample - loss: 0.7714 - wine_quality_loss: 0.7295 - wine_type_loss: 0.0422 - wine_quality_root_mean_squared_error: 0.8539 - wine_type_accuracy: 0.9930 - val_loss: 0.7303 - val_wine_quality_loss: 0.6890 - val_wine_type_loss: 0.0398 - val_wine_quality_root_mean_squared_error: 0.8308 - val_wine_type_accuracy: 0.9937\n",
      "Epoch 20/40\n",
      "3155/3155 [==============================] - 0s 95us/sample - loss: 0.7368 - wine_quality_loss: 0.6964 - wine_type_loss: 0.0408 - wine_quality_root_mean_squared_error: 0.8345 - wine_type_accuracy: 0.9927 - val_loss: 0.6906 - val_wine_quality_loss: 0.6506 - val_wine_type_loss: 0.0384 - val_wine_quality_root_mean_squared_error: 0.8073 - val_wine_type_accuracy: 0.9937\n",
      "Epoch 21/40\n",
      "3155/3155 [==============================] - 0s 94us/sample - loss: 0.7037 - wine_quality_loss: 0.6637 - wine_type_loss: 0.0389 - wine_quality_root_mean_squared_error: 0.8153 - wine_type_accuracy: 0.9930 - val_loss: 0.6708 - val_wine_quality_loss: 0.6315 - val_wine_type_loss: 0.0373 - val_wine_quality_root_mean_squared_error: 0.7957 - val_wine_type_accuracy: 0.9937\n",
      "Epoch 22/40\n",
      "3155/3155 [==============================] - 0s 94us/sample - loss: 0.6682 - wine_quality_loss: 0.6300 - wine_type_loss: 0.0377 - wine_quality_root_mean_squared_error: 0.7940 - wine_type_accuracy: 0.9933 - val_loss: 0.6349 - val_wine_quality_loss: 0.5970 - val_wine_type_loss: 0.0361 - val_wine_quality_root_mean_squared_error: 0.7736 - val_wine_type_accuracy: 0.9924\n",
      "Epoch 23/40\n",
      "3155/3155 [==============================] - 0s 93us/sample - loss: 0.6399 - wine_quality_loss: 0.6028 - wine_type_loss: 0.0367 - wine_quality_root_mean_squared_error: 0.7766 - wine_type_accuracy: 0.9937 - val_loss: 0.6086 - val_wine_quality_loss: 0.5716 - val_wine_type_loss: 0.0354 - val_wine_quality_root_mean_squared_error: 0.7569 - val_wine_type_accuracy: 0.9924\n",
      "Epoch 24/40\n",
      "3155/3155 [==============================] - 0s 95us/sample - loss: 0.6144 - wine_quality_loss: 0.5783 - wine_type_loss: 0.0358 - wine_quality_root_mean_squared_error: 0.7606 - wine_type_accuracy: 0.9937 - val_loss: 0.5890 - val_wine_quality_loss: 0.5522 - val_wine_type_loss: 0.0347 - val_wine_quality_root_mean_squared_error: 0.7443 - val_wine_type_accuracy: 0.9924\n",
      "Epoch 25/40\n",
      "3155/3155 [==============================] - 0s 93us/sample - loss: 0.5897 - wine_quality_loss: 0.5547 - wine_type_loss: 0.0349 - wine_quality_root_mean_squared_error: 0.7448 - wine_type_accuracy: 0.9937 - val_loss: 0.5723 - val_wine_quality_loss: 0.5359 - val_wine_type_loss: 0.0341 - val_wine_quality_root_mean_squared_error: 0.7334 - val_wine_type_accuracy: 0.9924\n",
      "Epoch 26/40\n",
      "3155/3155 [==============================] - 0s 94us/sample - loss: 0.5659 - wine_quality_loss: 0.5338 - wine_type_loss: 0.0343 - wine_quality_root_mean_squared_error: 0.7291 - wine_type_accuracy: 0.9940 - val_loss: 0.5460 - val_wine_quality_loss: 0.5102 - val_wine_type_loss: 0.0334 - val_wine_quality_root_mean_squared_error: 0.7157 - val_wine_type_accuracy: 0.9937\n",
      "Epoch 27/40\n",
      "3155/3155 [==============================] - 0s 93us/sample - loss: 0.5436 - wine_quality_loss: 0.5090 - wine_type_loss: 0.0335 - wine_quality_root_mean_squared_error: 0.7142 - wine_type_accuracy: 0.9937 - val_loss: 0.5232 - val_wine_quality_loss: 0.4880 - val_wine_type_loss: 0.0332 - val_wine_quality_root_mean_squared_error: 0.6998 - val_wine_type_accuracy: 0.9937\n",
      "Epoch 28/40\n",
      "3155/3155 [==============================] - 0s 95us/sample - loss: 0.5260 - wine_quality_loss: 0.5013 - wine_type_loss: 0.0331 - wine_quality_root_mean_squared_error: 0.7021 - wine_type_accuracy: 0.9940 - val_loss: 0.5124 - val_wine_quality_loss: 0.4778 - val_wine_type_loss: 0.0327 - val_wine_quality_root_mean_squared_error: 0.6923 - val_wine_type_accuracy: 0.9937\n",
      "Epoch 29/40\n",
      "3155/3155 [==============================] - 0s 94us/sample - loss: 0.5091 - wine_quality_loss: 0.4779 - wine_type_loss: 0.0326 - wine_quality_root_mean_squared_error: 0.6904 - wine_type_accuracy: 0.9946 - val_loss: 0.5002 - val_wine_quality_loss: 0.4654 - val_wine_type_loss: 0.0323 - val_wine_quality_root_mean_squared_error: 0.6837 - val_wine_type_accuracy: 0.9937\n",
      "Epoch 30/40\n",
      "3155/3155 [==============================] - 0s 77us/sample - loss: 0.4941 - wine_quality_loss: 0.4624 - wine_type_loss: 0.0319 - wine_quality_root_mean_squared_error: 0.6798 - wine_type_accuracy: 0.9943 - val_loss: 0.4892 - val_wine_quality_loss: 0.4551 - val_wine_type_loss: 0.0321 - val_wine_quality_root_mean_squared_error: 0.6758 - val_wine_type_accuracy: 0.9937\n",
      "Epoch 31/40\n",
      "3155/3155 [==============================] - 0s 95us/sample - loss: 0.4795 - wine_quality_loss: 0.4493 - wine_type_loss: 0.0315 - wine_quality_root_mean_squared_error: 0.6693 - wine_type_accuracy: 0.9946 - val_loss: 0.4672 - val_wine_quality_loss: 0.4336 - val_wine_type_loss: 0.0318 - val_wine_quality_root_mean_squared_error: 0.6596 - val_wine_type_accuracy: 0.9949\n",
      "Epoch 32/40\n",
      "3155/3155 [==============================] - 0s 93us/sample - loss: 0.4662 - wine_quality_loss: 0.4345 - wine_type_loss: 0.0310 - wine_quality_root_mean_squared_error: 0.6597 - wine_type_accuracy: 0.9946 - val_loss: 0.4542 - val_wine_quality_loss: 0.4208 - val_wine_type_loss: 0.0315 - val_wine_quality_root_mean_squared_error: 0.6499 - val_wine_type_accuracy: 0.9949\n",
      "Epoch 33/40\n",
      "3155/3155 [==============================] - 0s 96us/sample - loss: 0.4530 - wine_quality_loss: 0.4231 - wine_type_loss: 0.0308 - wine_quality_root_mean_squared_error: 0.6499 - wine_type_accuracy: 0.9946 - val_loss: 0.4403 - val_wine_quality_loss: 0.4068 - val_wine_type_loss: 0.0316 - val_wine_quality_root_mean_squared_error: 0.6390 - val_wine_type_accuracy: 0.9949\n",
      "Epoch 34/40\n",
      "3155/3155 [==============================] - 0s 94us/sample - loss: 0.4424 - wine_quality_loss: 0.4113 - wine_type_loss: 0.0302 - wine_quality_root_mean_squared_error: 0.6419 - wine_type_accuracy: 0.9946 - val_loss: 0.4296 - val_wine_quality_loss: 0.3966 - val_wine_type_loss: 0.0313 - val_wine_quality_root_mean_squared_error: 0.6309 - val_wine_type_accuracy: 0.9949\n",
      "Epoch 35/40\n",
      "3155/3155 [==============================] - 0s 92us/sample - loss: 0.4323 - wine_quality_loss: 0.4021 - wine_type_loss: 0.0299 - wine_quality_root_mean_squared_error: 0.6343 - wine_type_accuracy: 0.9946 - val_loss: 0.4258 - val_wine_quality_loss: 0.3927 - val_wine_type_loss: 0.0311 - val_wine_quality_root_mean_squared_error: 0.6280 - val_wine_type_accuracy: 0.9949\n",
      "Epoch 36/40\n",
      "3155/3155 [==============================] - 0s 94us/sample - loss: 0.4225 - wine_quality_loss: 0.3927 - wine_type_loss: 0.0295 - wine_quality_root_mean_squared_error: 0.6268 - wine_type_accuracy: 0.9946 - val_loss: 0.4134 - val_wine_quality_loss: 0.3806 - val_wine_type_loss: 0.0308 - val_wine_quality_root_mean_squared_error: 0.6182 - val_wine_type_accuracy: 0.9949\n",
      "Epoch 37/40\n",
      "3155/3155 [==============================] - 0s 94us/sample - loss: 0.4135 - wine_quality_loss: 0.3846 - wine_type_loss: 0.0292 - wine_quality_root_mean_squared_error: 0.6198 - wine_type_accuracy: 0.9946 - val_loss: 0.4060 - val_wine_quality_loss: 0.3737 - val_wine_type_loss: 0.0306 - val_wine_quality_root_mean_squared_error: 0.6124 - val_wine_type_accuracy: 0.9949\n",
      "Epoch 38/40\n",
      "3155/3155 [==============================] - 0s 94us/sample - loss: 0.4079 - wine_quality_loss: 0.3791 - wine_type_loss: 0.0289 - wine_quality_root_mean_squared_error: 0.6156 - wine_type_accuracy: 0.9946 - val_loss: 0.4061 - val_wine_quality_loss: 0.3737 - val_wine_type_loss: 0.0307 - val_wine_quality_root_mean_squared_error: 0.6124 - val_wine_type_accuracy: 0.9949\n",
      "Epoch 39/40\n",
      "3155/3155 [==============================] - 0s 94us/sample - loss: 0.4012 - wine_quality_loss: 0.3720 - wine_type_loss: 0.0287 - wine_quality_root_mean_squared_error: 0.6103 - wine_type_accuracy: 0.9946 - val_loss: 0.3977 - val_wine_quality_loss: 0.3652 - val_wine_type_loss: 0.0306 - val_wine_quality_root_mean_squared_error: 0.6056 - val_wine_type_accuracy: 0.9949\n",
      "Epoch 40/40\n",
      "3155/3155 [==============================] - 0s 92us/sample - loss: 0.3944 - wine_quality_loss: 0.3660 - wine_type_loss: 0.0284 - wine_quality_root_mean_squared_error: 0.6049 - wine_type_accuracy: 0.9946 - val_loss: 0.3934 - val_wine_quality_loss: 0.3613 - val_wine_type_loss: 0.0303 - val_wine_quality_root_mean_squared_error: 0.6023 - val_wine_type_accuracy: 0.9949\n"
     ]
    }
   ],
   "source": [
    "## Please uncomment all lines in this cell and replace those marked with `# YOUR CODE HERE`.\n",
    "## You can select all lines in this code cell with Ctrl+A (Windows/Linux) or Cmd+A (Mac), then press Ctrl+/ (Windows/Linux) or Cmd+/ (Mac) to uncomment.\n",
    "\n",
    "\n",
    "\n",
    "# history = model.fit(# YOUR CODE HERE, # YOUR CODE HERE,\n",
    "#                     epochs = 40, validation_data=(# YOUR CODE HERE, # YOUR CODE HERE))\n",
    "history = model.fit(norm_train_X, train_Y,\n",
    "                    epochs = 40, validation_data=(norm_val_X, val_Y))"
   ]
  },
  {
   "cell_type": "code",
   "execution_count": 77,
   "metadata": {
    "deletable": false,
    "editable": false,
    "nbgrader": {
     "cell_type": "code",
     "checksum": "fadad8896eda9c8c2115970724b15508",
     "grade": true,
     "grade_id": "cell-eb4d5b41bef8f0ab",
     "locked": true,
     "points": 1,
     "schema_version": 3,
     "solution": false,
     "task": false
    }
   },
   "outputs": [
    {
     "name": "stdout",
     "output_type": "stream",
     "text": [
      "\u001b[92m All public tests passed\n"
     ]
    }
   ],
   "source": [
    "utils.test_history(history)"
   ]
  },
  {
   "cell_type": "code",
   "execution_count": 78,
   "metadata": {
    "colab": {},
    "colab_type": "code",
    "id": "CubF2J2gSf6q"
   },
   "outputs": [
    {
     "name": "stdout",
     "output_type": "stream",
     "text": [
      "789/789 [==============================] - 0s 22us/sample - loss: 0.3934 - wine_quality_loss: 0.3613 - wine_type_loss: 0.0303 - wine_quality_root_mean_squared_error: 0.6023 - wine_type_accuracy: 0.9949\n",
      "\n",
      "loss: 0.39344606713801433\n",
      "wine_quality_loss: 0.36125069856643677\n",
      "wine_type_loss: 0.03031555935740471\n",
      "wine_quality_rmse: 0.6022946238517761\n",
      "wine_type_accuracy: 0.9949302673339844\n"
     ]
    }
   ],
   "source": [
    "# Gather the training metrics\n",
    "loss, wine_quality_loss, wine_type_loss, wine_quality_rmse, wine_type_accuracy = model.evaluate(x=norm_val_X, y=val_Y)\n",
    "\n",
    "print()\n",
    "print(f'loss: {loss}')\n",
    "print(f'wine_quality_loss: {wine_quality_loss}')\n",
    "print(f'wine_type_loss: {wine_type_loss}')\n",
    "print(f'wine_quality_rmse: {wine_quality_rmse}')\n",
    "print(f'wine_type_accuracy: {wine_type_accuracy}')\n",
    "\n",
    "# EXPECTED VALUES\n",
    "# ~ 0.30 - 0.38\n",
    "# ~ 0.30 - 0.38\n",
    "# ~ 0.018 - 0.036\n",
    "# ~ 0.50 - 0.62\n",
    "# ~ 0.97 - 1.0\n",
    "\n",
    "# Example:\n",
    "#0.3657050132751465\n",
    "#0.3463745415210724\n",
    "#0.019330406561493874\n",
    "#0.5885359048843384\n",
    "#0.9974651336669922"
   ]
  },
  {
   "cell_type": "markdown",
   "metadata": {
    "colab_type": "text",
    "id": "gPtTGAP4usnm"
   },
   "source": [
    "## Analyze the Model Performance\n",
    "\n",
    "Note that the model has two outputs. The output at index 0 is quality and index 1 is wine type\n",
    "\n",
    "So, round the quality predictions to the nearest integer."
   ]
  },
  {
   "cell_type": "code",
   "execution_count": 79,
   "metadata": {
    "colab": {},
    "colab_type": "code",
    "id": "tBq9PEeAaW-Y"
   },
   "outputs": [],
   "source": [
    "predictions = model.predict(norm_test_X)\n",
    "quality_pred = predictions[0]\n",
    "type_pred = predictions[1]"
   ]
  },
  {
   "cell_type": "code",
   "execution_count": 80,
   "metadata": {
    "colab": {},
    "colab_type": "code",
    "id": "YLhgTR4xTIxj"
   },
   "outputs": [
    {
     "name": "stdout",
     "output_type": "stream",
     "text": [
      "[5.5193834]\n"
     ]
    }
   ],
   "source": [
    "print(quality_pred[0])\n",
    "\n",
    "# EXPECTED OUTPUT\n",
    "# 5.4 - 6.0"
   ]
  },
  {
   "cell_type": "code",
   "execution_count": 81,
   "metadata": {
    "colab": {},
    "colab_type": "code",
    "id": "MPi-eYfGTUXi"
   },
   "outputs": [
    {
     "name": "stdout",
     "output_type": "stream",
     "text": [
      "[0.00311742]\n",
      "[0.99987817]\n"
     ]
    }
   ],
   "source": [
    "print(type_pred[0])\n",
    "print(type_pred[944])\n",
    "\n",
    "# EXPECTED OUTPUT\n",
    "# A number close to zero\n",
    "# A number close to or equal to 1"
   ]
  },
  {
   "cell_type": "markdown",
   "metadata": {
    "colab_type": "text",
    "id": "Kohk-9C6vt_s"
   },
   "source": [
    "### Plot Utilities\n",
    "\n",
    "We define a few utilities to visualize the model performance."
   ]
  },
  {
   "cell_type": "code",
   "execution_count": 82,
   "metadata": {
    "colab": {},
    "colab_type": "code",
    "id": "62gEOFUhn6aQ"
   },
   "outputs": [],
   "source": [
    "def plot_metrics(metric_name, title, ylim=5):\n",
    "    plt.title(title)\n",
    "    plt.ylim(0,ylim)\n",
    "    plt.plot(history.history[metric_name],color='blue',label=metric_name)\n",
    "    plt.plot(history.history['val_' + metric_name],color='green',label='val_' + metric_name)\n"
   ]
  },
  {
   "cell_type": "code",
   "execution_count": 83,
   "metadata": {
    "colab": {},
    "colab_type": "code",
    "id": "6rfgSx7uz5dj"
   },
   "outputs": [],
   "source": [
    "def plot_confusion_matrix(y_true, y_pred, title='', labels=[0,1]):\n",
    "    cm = confusion_matrix(test_Y[1], np.round(type_pred), labels=[0, 1])\n",
    "    disp = ConfusionMatrixDisplay(confusion_matrix=cm,\n",
    "                                  display_labels=[0, 1])\n",
    "    disp.plot(values_format='d');"
   ]
  },
  {
   "cell_type": "code",
   "execution_count": 84,
   "metadata": {
    "colab": {},
    "colab_type": "code",
    "id": "dfVLIqi017Vf"
   },
   "outputs": [],
   "source": [
    "def plot_diff(y_true, y_pred, title = '' ):\n",
    "    plt.scatter(y_true, y_pred)\n",
    "    plt.title(title)\n",
    "    plt.xlabel('True Values')\n",
    "    plt.ylabel('Predictions')\n",
    "    plt.axis('equal')\n",
    "    plt.axis('square')\n",
    "    plt.plot([-100, 100], [-100, 100])\n",
    "    return plt"
   ]
  },
  {
   "cell_type": "markdown",
   "metadata": {
    "colab_type": "text",
    "id": "8sd1jdFbwE0I"
   },
   "source": [
    "### Plots for Metrics"
   ]
  },
  {
   "cell_type": "code",
   "execution_count": 85,
   "metadata": {
    "colab": {},
    "colab_type": "code",
    "id": "f3MwZ5J1pOfj"
   },
   "outputs": [
    {
     "data": {
      "image/png": "[encoded data removed]",
      "text/plain": [
       "<Figure size 432x288 with 1 Axes>"
      ]
     },
     "metadata": {
      "needs_background": "light"
     },
     "output_type": "display_data"
    }
   ],
   "source": [
    "plot_metrics('wine_quality_root_mean_squared_error', 'RMSE', ylim=2)"
   ]
  },
  {
   "cell_type": "code",
   "execution_count": 86,
   "metadata": {
    "colab": {},
    "colab_type": "code",
    "id": "QIAxEezCppnd"
   },
   "outputs": [
    {
     "data": {
      "image/png": "[encoded data removed]",
      "text/plain": [
       "<Figure size 432x288 with 1 Axes>"
      ]
     },
     "metadata": {
      "needs_background": "light"
     },
     "output_type": "display_data"
    }
   ],
   "source": [
    "plot_metrics('wine_type_loss', 'Wine Type Loss', ylim=0.2)"
   ]
  },
  {
   "cell_type": "markdown",
   "metadata": {
    "colab_type": "text",
    "id": "uYV9AOAMwI9p"
   },
   "source": [
    "### Plots for Confusion Matrix\n",
    "\n",
    "Plot the confusion matrices for wine type. You can see that the model performs well for prediction of wine type from the confusion matrix and the loss metrics."
   ]
  },
  {
   "cell_type": "code",
   "execution_count": 87,
   "metadata": {
    "colab": {},
    "colab_type": "code",
    "id": "C3hvTYxIaf3n"
   },
   "outputs": [
    {
     "data": {
      "image/png": "[encoded data removed]",
      "text/plain": [
       "<Figure size 432x288 with 2 Axes>"
      ]
     },
     "metadata": {
      "needs_background": "light"
     },
     "output_type": "display_data"
    }
   ],
   "source": [
    "plot_confusion_matrix(test_Y[1], np.round(type_pred), title='Wine Type', labels = [0, 1])"
   ]
  },
  {
   "cell_type": "code",
   "execution_count": 88,
   "metadata": {
    "colab": {},
    "colab_type": "code",
    "id": "GW91ym8P2I5y"
   },
   "outputs": [
    {
     "data": {
      "image/png": "[encoded data removed]",
      "text/plain": [
       "<Figure size 432x288 with 1 Axes>"
      ]
     },
     "metadata": {
      "needs_background": "light"
     },
     "output_type": "display_data"
    }
   ],
   "source": [
    "scatter_plot = plot_diff(test_Y[0], quality_pred, title='Type')"
   ]
  },
  {
   "cell_type": "code",
   "execution_count": null,
   "metadata": {},
   "outputs": [],
   "source": []
  }
 ],
 "metadata": {
  "colab": {
   "include_colab_link": true,
   "name": "exercise-answer.ipynb",
   "provenance": []
  },
  "kernelspec": {
   "display_name": "Python 3",
   "language": "python",
   "name": "python3"
  },
  "language_info": {
   "codemirror_mode": {
    "name": "ipython",
    "version": 3
   },
   "file_extension": ".py",
   "mimetype": "text/x-python",
   "name": "python",
   "nbconvert_exporter": "python",
   "pygments_lexer": "ipython3",
   "version": "3.7.6"
  }
 },
 "nbformat": 4,
 "nbformat_minor": 4
}
