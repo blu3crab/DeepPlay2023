{
  "cells": [
    {
      "cell_type": "markdown",
      "metadata": {
        "id": "L6S2HVAkSt0p"
      },
      "source": [
        "# Week 2 Assignment: CIFAR-10 Autoencoder\n",
        "\n",
        "For this week, you will create a convolutional autoencoder for the [CIFAR10](https://www.tensorflow.org/datasets/catalog/cifar10) dataset. You are free to choose the architecture of your autoencoder provided that the output image has the same dimensions as the input image.\n",
        "\n",
        "After training, your model should meet loss and accuracy requirements when evaluated with the test dataset. You will then download the model and upload it in the classroom for grading.\n",
        "\n",
        "Let's begin!"
      ]
    },
    {
      "cell_type": "markdown",
      "metadata": {
        "id": "6r4iPr2jyisR"
      },
      "source": [
        "***Important:*** *This colab notebook has read-only access so you won't be able to save your changes. If you want to save your work periodically, please click `File -> Save a Copy in Drive` to create a copy in your account, then work from there.*  "
      ]
    },
    {
      "cell_type": "markdown",
      "metadata": {
        "id": "g1mzy2J8_nc1"
      },
      "source": [
        "## Imports"
      ]
    },
    {
      "cell_type": "code",
      "execution_count": 2,
      "metadata": {
        "id": "wPuX3RKxl8l5",
        "colab": {
          "base_uri": "https://localhost:8080/"
        },
        "outputId": "75c15047-0a55-45ca-a902-cc1d270fde43"
      },
      "outputs": [
        {
          "output_type": "stream",
          "name": "stdout",
          "text": [
            "\u001b[2K     \u001b[90m━━━━━━━━━━━━━━━━━━━━━━━━━━━━━━━━━━━━━━━\u001b[0m \u001b[32m497.6/497.6 MB\u001b[0m \u001b[31m2.4 MB/s\u001b[0m eta \u001b[36m0:00:00\u001b[0m\n",
            "\u001b[2K     \u001b[90m━━━━━━━━━━━━━━━━━━━━━━━━━━━━━━━━━━━━━━━━\u001b[0m \u001b[32m42.6/42.6 kB\u001b[0m \u001b[31m5.0 MB/s\u001b[0m eta \u001b[36m0:00:00\u001b[0m\n",
            "\u001b[2K     \u001b[90m━━━━━━━━━━━━━━━━━━━━━━━━━━━━━━━━━━━━━━━━\u001b[0m \u001b[32m5.8/5.8 MB\u001b[0m \u001b[31m90.3 MB/s\u001b[0m eta \u001b[36m0:00:00\u001b[0m\n",
            "\u001b[2K     \u001b[90m━━━━━━━━━━━━━━━━━━━━━━━━━━━━━━━━━━━━━━\u001b[0m \u001b[32m462.5/462.5 kB\u001b[0m \u001b[31m44.9 MB/s\u001b[0m eta \u001b[36m0:00:00\u001b[0m\n",
            "\u001b[2K     \u001b[90m━━━━━━━━━━━━━━━━━━━━━━━━━━━━━━━━━━━━━━━━\u001b[0m \u001b[32m1.4/1.4 MB\u001b[0m \u001b[31m81.9 MB/s\u001b[0m eta \u001b[36m0:00:00\u001b[0m\n",
            "\u001b[2K     \u001b[90m━━━━━━━━━━━━━━━━━━━━━━━━━━━━━━━━━━━━━━━━\u001b[0m \u001b[32m4.9/4.9 MB\u001b[0m \u001b[31m82.5 MB/s\u001b[0m eta \u001b[36m0:00:00\u001b[0m\n",
            "\u001b[2K     \u001b[90m━━━━━━━━━━━━━━━━━━━━━━━━━━━━━━━━━━━━━━\u001b[0m \u001b[32m781.3/781.3 kB\u001b[0m \u001b[31m41.2 MB/s\u001b[0m eta \u001b[36m0:00:00\u001b[0m\n",
            "\u001b[?25h"
          ]
        }
      ],
      "source": [
        "# Install packages for compatibility with the autograder\n",
        "!pip install tensorflow==2.8.0 --quiet\n",
        "!pip install keras==2.8.0 --quiet"
      ]
    },
    {
      "cell_type": "code",
      "execution_count": 1,
      "metadata": {
        "id": "3EXwoz-KHtWO",
        "colab": {
          "base_uri": "https://localhost:8080/"
        },
        "outputId": "b2cfb540-5a4b-44de-cf62-fde46735d322"
      },
      "outputs": [
        {
          "output_type": "stream",
          "name": "stdout",
          "text": [
            "Colab only includes TensorFlow 2.x; %tensorflow_version has no effect.\n"
          ]
        }
      ],
      "source": [
        "try:\n",
        "  # %tensorflow_version only exists in Colab.\n",
        "  %tensorflow_version 2.x\n",
        "except Exception:\n",
        "  pass\n",
        "\n",
        "import tensorflow as tf\n",
        "import tensorflow_datasets as tfds\n",
        "\n",
        "from keras.models import Sequential"
      ]
    },
    {
      "cell_type": "code",
      "source": [
        "tf. __version__"
      ],
      "metadata": {
        "colab": {
          "base_uri": "https://localhost:8080/",
          "height": 35
        },
        "id": "obuhO5preT66",
        "outputId": "e459c708-6c6a-4027-fb56-17ef3c1fee05"
      },
      "execution_count": 2,
      "outputs": [
        {
          "output_type": "execute_result",
          "data": {
            "text/plain": [
              "'2.8.0'"
            ],
            "application/vnd.google.colaboratory.intrinsic+json": {
              "type": "string"
            }
          },
          "metadata": {},
          "execution_count": 2
        }
      ]
    },
    {
      "cell_type": "markdown",
      "metadata": {
        "id": "n2Gs6Lyc_pd0"
      },
      "source": [
        "## Load and prepare the dataset\n",
        "\n",
        "The [CIFAR 10](https://www.tensorflow.org/datasets/catalog/cifar10) dataset already has train and test splits and you can use those in this exercise. Here are the general steps:\n",
        "\n",
        "* Load the train/test split from TFDS. Set `as_supervised` to `True` so it will be convenient to use the preprocessing function we provided.\n",
        "* Normalize the pixel values to the range [0,1], then return `image, image` pairs for training instead of `image, label`. This is because you will check if the output image is successfully regenerated after going through your autoencoder.\n",
        "* Shuffle and batch the train set. Batch the test set (no need to shuffle).\n"
      ]
    },
    {
      "cell_type": "code",
      "execution_count": 3,
      "metadata": {
        "id": "t9F7YsCNIKSA"
      },
      "outputs": [],
      "source": [
        "# preprocessing function\n",
        "def map_image(image, label):\n",
        "  image = tf.cast(image, dtype=tf.float32)\n",
        "  image = image / 255.0\n",
        "\n",
        "  return image, image # dataset label is not used. replaced with the same image input.\n",
        "\n",
        "# parameters\n",
        "#BATCH_SIZE = 128\n",
        "BATCH_SIZE = 64\n",
        "#SHUFFLE_BUFFER_SIZE = 1024\n",
        "SHUFFLE_BUFFER_SIZE = 512\n",
        "\n",
        "\n",
        "### START CODE HERE (Replace instances of `None` with your code) ###\n",
        "\n",
        "# use tfds.load() to fetch the 'train' split of CIFAR-10\n",
        "#train_dataset = None\n",
        "train_dataset = tfds.load('cifar10', as_supervised=True, split=\"train\")\n",
        "\n",
        "# preprocess the dataset with the `map_image()` function above\n",
        "#train_dataset = None\n",
        "train_dataset = train_dataset.map(map_image)\n",
        "\n",
        "# shuffle and batch the dataset\n",
        "#train_dataset = None\n",
        "#train_dataset = train_dataset.shuffle(SHUFFLE_BUFFER_SIZE).batch(BATCH_SIZE).repeat()\n",
        "train_dataset = train_dataset.shuffle(SHUFFLE_BUFFER_SIZE).batch(BATCH_SIZE)\n",
        "\n",
        "# use tfds.load() to fetch the 'test' split of CIFAR-10\n",
        "#test_dataset = None\n",
        "test_dataset = tfds.load('cifar10', as_supervised=True, split=\"test\")\n",
        "\n",
        "# preprocess the dataset with the `map_image()` function above\n",
        "#test_dataset = None\n",
        "test_dataset = test_dataset.map(map_image)\n",
        "\n",
        "# batch the dataset\n",
        "#test_dataset = None\n",
        "#test_dataset = test_dataset.batch(BATCH_SIZE).repeat()\n",
        "test_dataset = test_dataset.batch(BATCH_SIZE)\n",
        "### END CODE HERE ###"
      ]
    },
    {
      "cell_type": "markdown",
      "metadata": {
        "id": "rPyOgGJs_t98"
      },
      "source": [
        "## Build the Model\n",
        "\n",
        "Create the autoencoder model. As shown in the lectures, you will want to downsample the image in the encoder layers then upsample it in the decoder path. Note that the output layer should be the same dimensions as the original image. Your input images will have the shape `(32, 32, 3)`. If you deviate from this, your model may not be recognized by the grader and may fail.\n",
        "\n",
        "We included a few hints to use the Sequential API below but feel free to remove it and use the Functional API just like in the ungraded labs if you're more comfortable with it. Another reason to use the latter is if you want to visualize the encoder output. As shown in the ungraded labs, it will be easier to indicate multiple outputs with the Functional API. That is not required for this assignment though so you can just stack layers sequentially if you want a simpler solution."
      ]
    },
    {
      "cell_type": "code",
      "source": [
        "def encoder(inputs):\n",
        "  '''Defines the encoder with two Conv2D and max pooling layers.'''\n",
        "  conv_1 = tf.keras.layers.Conv2D(filters=64, kernel_size=(3,3), activation='relu', padding='same')(inputs)\n",
        "  max_pool_1 = tf.keras.layers.MaxPooling2D(pool_size=(2,2))(conv_1)\n",
        "  conv_2 = tf.keras.layers.Conv2D(filters=128, kernel_size=(3,3), activation='relu', padding='same')(max_pool_1)\n",
        "  max_pool_2 = tf.keras.layers.MaxPooling2D(pool_size=(2,2))(conv_2)\n",
        "\n",
        "  return max_pool_2"
      ],
      "metadata": {
        "id": "ejpYjaOmh7Qi"
      },
      "execution_count": 39,
      "outputs": []
    },
    {
      "cell_type": "code",
      "source": [
        "def bottle_neck(inputs):\n",
        "  '''Defines the bottleneck.'''\n",
        "  bottle_neck = tf.keras.layers.Conv2D(filters=256, kernel_size=(3,3), activation='relu', padding='same')(inputs)\n",
        "  encoder_visualization = tf.keras.layers.Conv2D(filters=1, kernel_size=(3,3), activation='sigmoid', padding='same')(bottle_neck)\n",
        "\n",
        "  return bottle_neck, encoder_visualization"
      ],
      "metadata": {
        "id": "ac88mlhhh-IO"
      },
      "execution_count": 40,
      "outputs": []
    },
    {
      "cell_type": "code",
      "source": [
        "def decoder(inputs):\n",
        "  '''Defines the decoder path to upsample back to the original image size.'''\n",
        "  conv_1 = tf.keras.layers.Conv2D(filters=128, kernel_size=(3,3), activation='relu', padding='same')(inputs)\n",
        "  up_sample_1 = tf.keras.layers.UpSampling2D(size=(2,2))(conv_1)\n",
        "\n",
        "  conv_2 = tf.keras.layers.Conv2D(filters=64, kernel_size=(3,3), activation='relu', padding='same')(up_sample_1)\n",
        "  up_sample_2 = tf.keras.layers.UpSampling2D(size=(2,2))(conv_2)\n",
        "\n",
        "  conv_3 = tf.keras.layers.Conv2D(filters=3, kernel_size=(3,3), activation='sigmoid', padding='same')(up_sample_2)\n",
        "\n",
        "  return conv_3"
      ],
      "metadata": {
        "id": "M2CwEvrXh-iK"
      },
      "execution_count": 44,
      "outputs": []
    },
    {
      "cell_type": "code",
      "source": [
        "def convolutional_auto_encoder():\n",
        "  '''Builds the entire autoencoder model.'''\n",
        "  inputs = tf.keras.layers.Input(shape=(32, 32, 3,))\n",
        "  encoder_output = encoder(inputs)\n",
        "  bottleneck_output, encoder_visualization = bottle_neck(encoder_output)\n",
        "  decoder_output = decoder(bottleneck_output)\n",
        "\n",
        "  model = tf.keras.Model(inputs =inputs, outputs=decoder_output)\n",
        "  encoder_model = tf.keras.Model(inputs=inputs, outputs=encoder_visualization)\n",
        "  return model, encoder_model"
      ],
      "metadata": {
        "id": "S2scc5vAiRq4"
      },
      "execution_count": 45,
      "outputs": []
    },
    {
      "cell_type": "code",
      "execution_count": 46,
      "metadata": {
        "id": "Wr-Bok3lRgA3",
        "colab": {
          "base_uri": "https://localhost:8080/"
        },
        "outputId": "2ab8c215-0888-4a6d-cc29-ac7bde7e08f6"
      },
      "outputs": [
        {
          "output_type": "stream",
          "name": "stdout",
          "text": [
            "Model: \"model_10\"\n",
            "_________________________________________________________________\n",
            " Layer (type)                Output Shape              Param #   \n",
            "=================================================================\n",
            " input_13 (InputLayer)       [(None, 32, 32, 3)]       0         \n",
            "                                                                 \n",
            " conv2d_90 (Conv2D)          (None, 32, 32, 64)        1792      \n",
            "                                                                 \n",
            " max_pooling2d_20 (MaxPoolin  (None, 16, 16, 64)       0         \n",
            " g2D)                                                            \n",
            "                                                                 \n",
            " conv2d_91 (Conv2D)          (None, 16, 16, 128)       73856     \n",
            "                                                                 \n",
            " max_pooling2d_21 (MaxPoolin  (None, 8, 8, 128)        0         \n",
            " g2D)                                                            \n",
            "                                                                 \n",
            " conv2d_92 (Conv2D)          (None, 8, 8, 256)         295168    \n",
            "                                                                 \n",
            " conv2d_94 (Conv2D)          (None, 8, 8, 128)         295040    \n",
            "                                                                 \n",
            " up_sampling2d_28 (UpSamplin  (None, 16, 16, 128)      0         \n",
            " g2D)                                                            \n",
            "                                                                 \n",
            " conv2d_95 (Conv2D)          (None, 16, 16, 64)        73792     \n",
            "                                                                 \n",
            " up_sampling2d_29 (UpSamplin  (None, 32, 32, 64)       0         \n",
            " g2D)                                                            \n",
            "                                                                 \n",
            " conv2d_96 (Conv2D)          (None, 32, 32, 3)         1731      \n",
            "                                                                 \n",
            "=================================================================\n",
            "Total params: 741,379\n",
            "Trainable params: 741,379\n",
            "Non-trainable params: 0\n",
            "_________________________________________________________________\n"
          ]
        }
      ],
      "source": [
        "# suggested layers to use. feel free to add or remove as you see fit.\n",
        "from keras.layers import Conv2D, UpSampling2D\n",
        "\n",
        "model, convolutional_encoder_model = convolutional_auto_encoder()\n",
        "\n",
        "# use the Sequential API (you can remove if you want to use the Functional API)\n",
        "# model = Sequential()\n",
        "\n",
        "### START CODE HERE ###\n",
        "# use `model.add()` to add layers (if using the Sequential API)\n",
        "#None\n",
        "\n",
        "\n",
        "### END CODE HERE ###\n",
        "\n",
        "model.summary()"
      ]
    },
    {
      "cell_type": "markdown",
      "metadata": {
        "id": "jRWTAijKEVUC"
      },
      "source": [
        "## Configure training parameters\n",
        "\n",
        "We have already provided the optimizer, metrics, and loss in the code below."
      ]
    },
    {
      "cell_type": "code",
      "execution_count": 47,
      "metadata": {
        "id": "iHIeD9eDETSk"
      },
      "outputs": [],
      "source": [
        "# Please do not change the model.compile() parameters\n",
        "model.compile(optimizer='adam', metrics=['accuracy'], loss='mean_squared_error')"
      ]
    },
    {
      "cell_type": "markdown",
      "metadata": {
        "id": "tLQPhm1W_8dC"
      },
      "source": [
        "## Training\n",
        "\n",
        "You can now use [model.fit()](https://keras.io/api/models/model_training_apis/#fit-method) to train your model. You will pass in the `train_dataset` and you are free to configure the other parameters. As with any training, you should see the loss generally going down and the accuracy going up with each epoch. If not, please revisit the previous sections to find possible bugs.\n",
        "\n",
        "*Note: If you get a `dataset length is infinite` error. Please check how you defined `train_dataset`. You might have included a [method that repeats the dataset indefinitely](https://www.tensorflow.org/api_docs/python/tf/data/Dataset#repeat).*"
      ]
    },
    {
      "cell_type": "code",
      "source": [
        "print(f\"len(train_dataset)->{len(train_dataset)}\")\n",
        "print(f\"len(test_dataset)->{len(test_dataset)}\")\n"
      ],
      "metadata": {
        "colab": {
          "base_uri": "https://localhost:8080/"
        },
        "id": "07XzZceFuk7R",
        "outputId": "64eb4b1c-d91f-4468-8b29-2ae00f500a1e"
      },
      "execution_count": 22,
      "outputs": [
        {
          "output_type": "stream",
          "name": "stdout",
          "text": [
            "len(train_dataset)->782\n",
            "len(test_dataset)->157\n"
          ]
        }
      ]
    },
    {
      "cell_type": "code",
      "execution_count": 48,
      "metadata": {
        "id": "AMBimOnsRvg0",
        "colab": {
          "base_uri": "https://localhost:8080/"
        },
        "outputId": "5234fd5b-6160-4272-a9ef-3e6f43085907"
      },
      "outputs": [
        {
          "output_type": "stream",
          "name": "stdout",
          "text": [
            "Epoch 1/64\n",
            "12/12 [==============================] - 1s 31ms/step - loss: 0.0560 - accuracy: 0.4534 - val_loss: 0.0772 - val_accuracy: 0.4326\n",
            "Epoch 2/64\n",
            "12/12 [==============================] - 0s 22ms/step - loss: 0.0438 - accuracy: 0.4675 - val_loss: 0.0291 - val_accuracy: 0.4443\n",
            "Epoch 3/64\n",
            "12/12 [==============================] - 0s 22ms/step - loss: 0.0270 - accuracy: 0.4848 - val_loss: 0.0196 - val_accuracy: 0.5029\n",
            "Epoch 4/64\n",
            "12/12 [==============================] - 0s 23ms/step - loss: 0.0180 - accuracy: 0.5959 - val_loss: 0.0136 - val_accuracy: 0.6229\n",
            "Epoch 5/64\n",
            "12/12 [==============================] - 0s 20ms/step - loss: 0.0140 - accuracy: 0.6338 - val_loss: 0.0114 - val_accuracy: 0.5926\n",
            "Epoch 6/64\n",
            "12/12 [==============================] - 0s 22ms/step - loss: 0.0114 - accuracy: 0.6212 - val_loss: 0.0102 - val_accuracy: 0.6404\n",
            "Epoch 7/64\n",
            "12/12 [==============================] - 0s 21ms/step - loss: 0.0131 - accuracy: 0.6594 - val_loss: 0.0109 - val_accuracy: 0.6596\n",
            "Epoch 8/64\n",
            "12/12 [==============================] - 0s 23ms/step - loss: 0.0112 - accuracy: 0.6944 - val_loss: 0.0097 - val_accuracy: 0.6875\n",
            "Epoch 9/64\n",
            "12/12 [==============================] - 0s 21ms/step - loss: 0.0098 - accuracy: 0.7242 - val_loss: 0.0078 - val_accuracy: 0.7215\n",
            "Epoch 10/64\n",
            "12/12 [==============================] - 0s 22ms/step - loss: 0.0087 - accuracy: 0.7255 - val_loss: 0.0073 - val_accuracy: 0.7458\n",
            "Epoch 11/64\n",
            "12/12 [==============================] - 0s 21ms/step - loss: 0.0077 - accuracy: 0.7228 - val_loss: 0.0067 - val_accuracy: 0.7545\n",
            "Epoch 12/64\n",
            "12/12 [==============================] - 0s 20ms/step - loss: 0.0088 - accuracy: 0.7248 - val_loss: 0.0081 - val_accuracy: 0.7404\n",
            "Epoch 13/64\n",
            "12/12 [==============================] - 0s 23ms/step - loss: 0.0078 - accuracy: 0.7392 - val_loss: 0.0065 - val_accuracy: 0.7624\n",
            "Epoch 14/64\n",
            "12/12 [==============================] - 0s 23ms/step - loss: 0.0071 - accuracy: 0.7591 - val_loss: 0.0062 - val_accuracy: 0.7689\n",
            "Epoch 15/64\n",
            "12/12 [==============================] - 0s 30ms/step - loss: 0.0066 - accuracy: 0.7685 - val_loss: 0.0058 - val_accuracy: 0.7784\n",
            "Epoch 16/64\n",
            "12/12 [==============================] - 0s 31ms/step - loss: 0.0063 - accuracy: 0.7676 - val_loss: 0.0060 - val_accuracy: 0.7815\n",
            "Epoch 17/64\n",
            "12/12 [==============================] - 0s 32ms/step - loss: 0.0063 - accuracy: 0.7677 - val_loss: 0.0057 - val_accuracy: 0.7743\n",
            "Epoch 18/64\n",
            "12/12 [==============================] - 0s 33ms/step - loss: 0.0060 - accuracy: 0.7784 - val_loss: 0.0057 - val_accuracy: 0.7927\n",
            "Epoch 19/64\n",
            "12/12 [==============================] - 0s 35ms/step - loss: 0.0057 - accuracy: 0.7805 - val_loss: 0.0052 - val_accuracy: 0.7945\n",
            "Epoch 20/64\n",
            "12/12 [==============================] - 0s 33ms/step - loss: 0.0055 - accuracy: 0.7857 - val_loss: 0.0051 - val_accuracy: 0.7925\n",
            "Epoch 21/64\n",
            "12/12 [==============================] - 0s 33ms/step - loss: 0.0056 - accuracy: 0.7847 - val_loss: 0.0049 - val_accuracy: 0.7881\n",
            "Epoch 22/64\n",
            "12/12 [==============================] - 0s 31ms/step - loss: 0.0056 - accuracy: 0.7880 - val_loss: 0.0049 - val_accuracy: 0.7923\n",
            "Epoch 23/64\n",
            "12/12 [==============================] - 0s 34ms/step - loss: 0.0052 - accuracy: 0.7852 - val_loss: 0.0046 - val_accuracy: 0.8045\n",
            "Epoch 24/64\n",
            "12/12 [==============================] - 0s 35ms/step - loss: 0.0054 - accuracy: 0.7878 - val_loss: 0.0045 - val_accuracy: 0.8079\n",
            "Epoch 25/64\n",
            "12/12 [==============================] - 0s 34ms/step - loss: 0.0051 - accuracy: 0.7860 - val_loss: 0.0050 - val_accuracy: 0.7855\n",
            "Epoch 26/64\n",
            "12/12 [==============================] - 0s 31ms/step - loss: 0.0050 - accuracy: 0.8020 - val_loss: 0.0044 - val_accuracy: 0.8025\n",
            "Epoch 27/64\n",
            "12/12 [==============================] - 0s 33ms/step - loss: 0.0048 - accuracy: 0.7922 - val_loss: 0.0043 - val_accuracy: 0.8029\n",
            "Epoch 28/64\n",
            "12/12 [==============================] - 0s 33ms/step - loss: 0.0046 - accuracy: 0.8078 - val_loss: 0.0042 - val_accuracy: 0.8051\n",
            "Epoch 29/64\n",
            "12/12 [==============================] - 0s 23ms/step - loss: 0.0053 - accuracy: 0.8034 - val_loss: 0.0049 - val_accuracy: 0.7890\n",
            "Epoch 30/64\n",
            "12/12 [==============================] - 0s 23ms/step - loss: 0.0050 - accuracy: 0.7919 - val_loss: 0.0046 - val_accuracy: 0.7992\n",
            "Epoch 31/64\n",
            "12/12 [==============================] - 0s 21ms/step - loss: 0.0047 - accuracy: 0.7959 - val_loss: 0.0042 - val_accuracy: 0.8052\n",
            "Epoch 32/64\n",
            "12/12 [==============================] - 0s 21ms/step - loss: 0.0045 - accuracy: 0.8051 - val_loss: 0.0040 - val_accuracy: 0.8175\n",
            "Epoch 33/64\n",
            "12/12 [==============================] - 0s 21ms/step - loss: 0.0046 - accuracy: 0.8011 - val_loss: 0.0043 - val_accuracy: 0.8088\n",
            "Epoch 34/64\n",
            "12/12 [==============================] - 0s 22ms/step - loss: 0.0045 - accuracy: 0.7956 - val_loss: 0.0042 - val_accuracy: 0.8178\n",
            "Epoch 35/64\n",
            "12/12 [==============================] - 0s 22ms/step - loss: 0.0044 - accuracy: 0.8105 - val_loss: 0.0038 - val_accuracy: 0.8139\n",
            "Epoch 36/64\n",
            "12/12 [==============================] - 0s 22ms/step - loss: 0.0051 - accuracy: 0.7996 - val_loss: 0.0043 - val_accuracy: 0.8021\n",
            "Epoch 37/64\n",
            "12/12 [==============================] - 0s 22ms/step - loss: 0.0046 - accuracy: 0.7933 - val_loss: 0.0040 - val_accuracy: 0.7686\n",
            "Epoch 38/64\n",
            "12/12 [==============================] - 0s 23ms/step - loss: 0.0043 - accuracy: 0.7938 - val_loss: 0.0037 - val_accuracy: 0.8083\n",
            "Epoch 39/64\n",
            "12/12 [==============================] - 0s 21ms/step - loss: 0.0041 - accuracy: 0.8072 - val_loss: 0.0037 - val_accuracy: 0.8229\n",
            "Epoch 40/64\n",
            "12/12 [==============================] - 0s 20ms/step - loss: 0.0041 - accuracy: 0.8089 - val_loss: 0.0036 - val_accuracy: 0.8122\n",
            "Epoch 41/64\n",
            "12/12 [==============================] - 0s 22ms/step - loss: 0.0041 - accuracy: 0.8013 - val_loss: 0.0037 - val_accuracy: 0.8168\n",
            "Epoch 42/64\n",
            "12/12 [==============================] - 0s 23ms/step - loss: 0.0044 - accuracy: 0.8066 - val_loss: 0.0040 - val_accuracy: 0.7960\n",
            "Epoch 43/64\n",
            "12/12 [==============================] - 0s 20ms/step - loss: 0.0045 - accuracy: 0.8012 - val_loss: 0.0038 - val_accuracy: 0.8157\n",
            "Epoch 44/64\n",
            "12/12 [==============================] - 0s 20ms/step - loss: 0.0042 - accuracy: 0.8008 - val_loss: 0.0035 - val_accuracy: 0.8126\n",
            "Epoch 45/64\n",
            "12/12 [==============================] - 0s 20ms/step - loss: 0.0038 - accuracy: 0.8101 - val_loss: 0.0035 - val_accuracy: 0.8117\n",
            "Epoch 46/64\n",
            "12/12 [==============================] - 0s 22ms/step - loss: 0.0039 - accuracy: 0.8163 - val_loss: 0.0034 - val_accuracy: 0.8228\n",
            "Epoch 47/64\n",
            "12/12 [==============================] - 0s 21ms/step - loss: 0.0042 - accuracy: 0.8134 - val_loss: 0.0035 - val_accuracy: 0.8144\n",
            "Epoch 48/64\n",
            "12/12 [==============================] - 0s 21ms/step - loss: 0.0044 - accuracy: 0.8114 - val_loss: 0.0037 - val_accuracy: 0.8056\n",
            "Epoch 49/64\n",
            "12/12 [==============================] - 0s 21ms/step - loss: 0.0040 - accuracy: 0.8020 - val_loss: 0.0034 - val_accuracy: 0.8180\n",
            "Epoch 50/64\n",
            "12/12 [==============================] - 0s 24ms/step - loss: 0.0038 - accuracy: 0.8078 - val_loss: 0.0034 - val_accuracy: 0.8225\n",
            "Epoch 51/64\n",
            "12/12 [==============================] - 0s 22ms/step - loss: 0.0037 - accuracy: 0.8065 - val_loss: 0.0033 - val_accuracy: 0.8253\n",
            "Epoch 52/64\n",
            "12/12 [==============================] - 0s 25ms/step - loss: 0.0038 - accuracy: 0.8137 - val_loss: 0.0037 - val_accuracy: 0.8127\n",
            "Epoch 53/64\n",
            "12/12 [==============================] - 0s 22ms/step - loss: 0.0040 - accuracy: 0.8126 - val_loss: 0.0034 - val_accuracy: 0.8162\n",
            "Epoch 54/64\n",
            "12/12 [==============================] - 0s 22ms/step - loss: 0.0037 - accuracy: 0.8171 - val_loss: 0.0034 - val_accuracy: 0.8226\n",
            "Epoch 55/64\n",
            "12/12 [==============================] - 0s 22ms/step - loss: 0.0037 - accuracy: 0.8148 - val_loss: 0.0032 - val_accuracy: 0.8284\n",
            "Epoch 56/64\n",
            "12/12 [==============================] - 0s 23ms/step - loss: 0.0037 - accuracy: 0.8161 - val_loss: 0.0032 - val_accuracy: 0.8264\n",
            "Epoch 57/64\n",
            "12/12 [==============================] - 0s 21ms/step - loss: 0.0036 - accuracy: 0.8127 - val_loss: 0.0033 - val_accuracy: 0.8257\n",
            "Epoch 58/64\n",
            "12/12 [==============================] - 0s 22ms/step - loss: 0.0036 - accuracy: 0.8025 - val_loss: 0.0033 - val_accuracy: 0.7943\n",
            "Epoch 59/64\n",
            "12/12 [==============================] - 0s 21ms/step - loss: 0.0036 - accuracy: 0.8015 - val_loss: 0.0032 - val_accuracy: 0.8120\n",
            "Epoch 60/64\n",
            "12/12 [==============================] - 0s 22ms/step - loss: 0.0037 - accuracy: 0.8141 - val_loss: 0.0070 - val_accuracy: 0.7875\n",
            "Epoch 61/64\n",
            "12/12 [==============================] - 0s 23ms/step - loss: 0.0048 - accuracy: 0.7965 - val_loss: 0.0037 - val_accuracy: 0.7356\n",
            "Epoch 62/64\n",
            "12/12 [==============================] - 0s 22ms/step - loss: 0.0042 - accuracy: 0.7641 - val_loss: 0.0035 - val_accuracy: 0.7618\n",
            "Epoch 63/64\n",
            "12/12 [==============================] - 0s 22ms/step - loss: 0.0037 - accuracy: 0.7989 - val_loss: 0.0032 - val_accuracy: 0.8084\n",
            "Epoch 64/64\n",
            "12/12 [==============================] - 0s 21ms/step - loss: 0.0035 - accuracy: 0.8149 - val_loss: 0.0031 - val_accuracy: 0.8332\n"
          ]
        }
      ],
      "source": [
        "# parameters (feel free to change this)\n",
        "train_steps = len(train_dataset) // BATCH_SIZE\n",
        "valid_steps = len(test_dataset) // BATCH_SIZE\n",
        "epoch_count = 64  #40\n",
        "\n",
        "### START CODE HERE ###\n",
        "#model.fit(None)\n",
        "conv_model_history = model.fit(train_dataset, steps_per_epoch=train_steps, validation_data=test_dataset, validation_steps=valid_steps, epochs=epoch_count)\n",
        "### END CODE HERE ###"
      ]
    },
    {
      "cell_type": "markdown",
      "metadata": {
        "id": "PT2l1c-SAaF4"
      },
      "source": [
        "## Model evaluation\n",
        "\n",
        "You can use this code to test your model locally before uploading to the grader. To pass, your model needs to satisfy these two requirements:\n",
        "\n",
        "* loss must be less than 0.01\n",
        "* accuracy must be greater than 0.6"
      ]
    },
    {
      "cell_type": "code",
      "execution_count": 49,
      "metadata": {
        "id": "vFncgqahSQhA",
        "colab": {
          "base_uri": "https://localhost:8080/"
        },
        "outputId": "06c60806-a492-4881-9352-788e3c58467b"
      },
      "outputs": [
        {
          "output_type": "stream",
          "name": "stdout",
          "text": [
            "10/10 [==============================] - 0s 12ms/step - loss: 0.0034 - accuracy: 0.8228\n"
          ]
        }
      ],
      "source": [
        "result = model.evaluate(test_dataset, steps=10)"
      ]
    },
    {
      "cell_type": "code",
      "source": [
        "import matplotlib.pyplot as plt\n",
        "\n",
        "def display_one_row(disp_images, offset, shape=(32, 32, 3)):\n",
        "  '''Display sample outputs in one row.'''\n",
        "  for idx, test_image in enumerate(disp_images):\n",
        "    plt.subplot(3, 10, offset + idx + 1)\n",
        "    plt.xticks([])\n",
        "    plt.yticks([])\n",
        "    #print(f\"test_image.shape->{test_image.shape}\")\n",
        "    test_image = np.reshape(test_image, shape)\n",
        "    plt.imshow(test_image, cmap='gray')\n",
        "\n",
        "\n",
        "def display_results(disp_input_images, disp_encoded, disp_predicted, enc_shape=(8,4)):\n",
        "  '''Displays the input, encoded, and decoded output values.'''\n",
        "  #print(f\"disp_input_images.shape->{disp_input_images.shape}\")\n",
        "  plt.figure(figsize=(15, 5))\n",
        "  display_one_row(disp_input_images, 0, shape=(32,32,3))\n",
        "  display_one_row(disp_encoded, 10, shape=enc_shape)\n",
        "  display_one_row(disp_predicted, 20, shape=(32,32,3))"
      ],
      "metadata": {
        "id": "j8ho2x2PtU19"
      },
      "execution_count": 70,
      "outputs": []
    },
    {
      "cell_type": "code",
      "source": [
        "import numpy as np\n",
        "\n",
        "# take 1 batch of the dataset\n",
        "test_dataset = test_dataset.take(1)\n",
        "\n",
        "# take the input images and put them in a list\n",
        "output_samples = []\n",
        "for input_image, image in tfds.as_numpy(test_dataset):\n",
        "      output_samples = input_image\n",
        "\n",
        "# pick 10 indices\n",
        "idxs = np.array([1, 2, 3, 4, 5, 6, 7, 8, 9, 10])\n",
        "\n",
        "# prepare test samples as a batch of 10 images\n",
        "conv_output_samples = np.array(output_samples[idxs])\n",
        "conv_output_samples = np.reshape(conv_output_samples, (10, 32, 32, 3))\n",
        "\n",
        "# get the encoder ouput\n",
        "encoded = convolutional_encoder_model.predict(conv_output_samples)\n",
        "#print(f\"encoded.shape->{encoded.shape}\")\n",
        "\n",
        "# get a prediction for some values in the dataset\n",
        "predicted = model.predict(conv_output_samples)\n",
        "\n",
        "# display the samples, encodings and decoded values!\n",
        "#display_results(conv_output_samples, encoded, predicted, enc_shape=(7,7))\n",
        "display_results(conv_output_samples, encoded, predicted, enc_shape=(8,8))"
      ],
      "metadata": {
        "colab": {
          "base_uri": "https://localhost:8080/",
          "height": 407
        },
        "id": "ABU7bcDitdOj",
        "outputId": "d42bf43e-39ba-4e17-9503-ed2f8c4136d0"
      },
      "execution_count": 71,
      "outputs": [
        {
          "output_type": "display_data",
          "data": {
            "text/plain": [
              "<Figure size 1500x500 with 30 Axes>"
            ],
            "image/png": "[encoded data removed]"
          },
          "metadata": {}
        }
      ]
    },
    {
      "cell_type": "markdown",
      "metadata": {
        "id": "di6VOHGwIsVM"
      },
      "source": [
        "If you did some visualization like in the ungraded labs, then you might see something like the gallery below. This part is not required."
      ]
    },
    {
      "cell_type": "markdown",
      "metadata": {
        "id": "wmpI4skkIA5L"
      },
      "source": [
        "<img src=\"https://drive.google.com/uc?export=view&id=12Fy-guiP-3tTPfc9IV2nHhqLvs7LwRo6\" width=\"75%\" height=\"75%\"/>"
      ]
    },
    {
      "cell_type": "markdown",
      "metadata": {
        "id": "uaRSkQPNAPT0"
      },
      "source": [
        "## Save your model\n",
        "\n",
        "Once you are satisfied with the results, you can now save your model. Please download it from the Files window on the left and go back to the Submission portal in Coursera for grading."
      ]
    },
    {
      "cell_type": "code",
      "execution_count": 72,
      "metadata": {
        "id": "pLFpLP-c7rDR"
      },
      "outputs": [],
      "source": [
        "model.save('mymodel.h5')"
      ]
    },
    {
      "cell_type": "markdown",
      "metadata": {
        "id": "QArMiXJTDxDe"
      },
      "source": [
        "**Congratulations on completing this week's assignment!**"
      ]
    }
  ],
  "metadata": {
    "accelerator": "GPU",
    "colab": {
      "provenance": [],
      "gpuType": "T4"
    },
    "kernelspec": {
      "display_name": "Python 3",
      "name": "python3"
    },
    "language_info": {
      "codemirror_mode": {
        "name": "ipython",
        "version": 3
      },
      "file_extension": ".py",
      "mimetype": "text/x-python",
      "name": "python",
      "nbconvert_exporter": "python",
      "pygments_lexer": "ipython3",
      "version": "3.7.4"
    }
  },
  "nbformat": 4,
  "nbformat_minor": 0
}