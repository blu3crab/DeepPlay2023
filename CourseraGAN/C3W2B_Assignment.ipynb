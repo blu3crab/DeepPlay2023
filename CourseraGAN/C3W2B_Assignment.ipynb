{
  "cells": [
    {
      "cell_type": "markdown",
      "metadata": {
        "id": "1czVdIlqnImH"
      },
      "source": [
        "# Pix2Pix"
      ]
    },
    {
      "cell_type": "code",
      "source": [
        "from google.colab import drive\n",
        "drive.mount('/content/drive')"
      ],
      "metadata": {
        "colab": {
          "base_uri": "https://localhost:8080/"
        },
        "id": "TgqIU_cabVCF",
        "outputId": "a1aec2ed-8b84-4a26-82ee-fdb984e83052"
      },
      "execution_count": null,
      "outputs": [
        {
          "output_type": "stream",
          "name": "stdout",
          "text": [
            "Mounted at /content/drive\n"
          ]
        }
      ]
    },
    {
      "cell_type": "code",
      "source": [
        "!ls /content/drive/MyDrive"
      ],
      "metadata": {
        "colab": {
          "base_uri": "https://localhost:8080/"
        },
        "id": "uce0vXs-bZmd",
        "outputId": "b0a3d05b-7b0e-49a5-841b-83d313fb983c"
      },
      "execution_count": null,
      "outputs": [
        {
          "output_type": "stream",
          "name": "stdout",
          "text": [
            " AHA-DevLog-2022.gdoc   AHA-TODO-2023.gdoc\t  TucCareer\t TucTales\n",
            " AHA-DevLog-2023.gdoc  'Colab Notebooks'\t  TucCreative\t zArchive2021\n",
            " AhaGigLog-2023.gdoc    HAM-support-2023.gsheet   TucDataSets\t zArchive2022\n",
            " AhaGigLog2023.gsheet  'Health Notes 2022.gdoc'   TucImage\t zArchive2023\n",
            " AHA-TODO-2022.gdoc     SAM-log-2022.gdoc\t  TucReference\n"
          ]
        }
      ]
    },
    {
      "cell_type": "markdown",
      "metadata": {
        "id": "1KD3ZgLs80vY"
      },
      "source": [
        "### Goals\n",
        "In this notebook, you will write a generative model based on the paper [*Image-to-Image Translation with Conditional Adversarial Networks*](https://arxiv.org/abs/1611.07004) by Isola et al. 2017, also known as Pix2Pix.\n",
        "\n",
        "You will be training a model that can convert aerial satellite imagery (\"input\") into map routes (\"output\"), as was done in the original paper. Since the architecture for the generator is a U-Net, which you've already implemented (with minor changes), the emphasis of the assignment will be on the loss function. So that you can see outputs more quickly, you'll be able to see your model train starting from a pre-trained checkpoint - but feel free to train it from scratch on your own too.\n",
        "\n",
        "\n",
        "![pix2pix example](pix2pix_ex.png)\n",
        "\n",
        "\n",
        "<!-- You will take the segmentations that you generated in the previous assignment and produce photorealistic images. -->\n",
        "\n",
        "### Learning Objectives\n",
        "1.   Implement the loss of a Pix2Pix model that differentiates it from a supervised U-Net.\n",
        "2.   Observe the change in generator priorities as the Pix2Pix generator trains, changing its emphasis from reconstruction to realism.\n",
        "\n",
        "<!-- When you're done with this assignment, you'll be able to understand much of [*Image-to-Image Translation with Conditional Adversarial Networks*](https://arxiv.org/abs/1611.07004), which introduced Pix2Pix.\n",
        "\n",
        "You'll be using the same U-Net as in the previous assignment, but you'll write another discriminator and change the loss to make it a GAN. -->"
      ]
    },
    {
      "cell_type": "markdown",
      "metadata": {
        "id": "wU8DDM6l9rZb"
      },
      "source": [
        "## Getting Started\n",
        "You will start by importing libraries, defining a visualization function, and getting the pre-trained Pix2Pix checkpoint. You will also be provided with the U-Net code for the Pix2Pix generator."
      ]
    },
    {
      "cell_type": "code",
      "execution_count": null,
      "metadata": {
        "id": "JfkorNJrnmNO"
      },
      "outputs": [],
      "source": [
        "import torch\n",
        "from torch import nn\n",
        "from tqdm.auto import tqdm\n",
        "from torchvision import transforms\n",
        "from torchvision.utils import make_grid\n",
        "from torch.utils.data import DataLoader\n",
        "import matplotlib.pyplot as plt\n",
        "torch.manual_seed(0)\n",
        "\n",
        "def show_tensor_images(image_tensor, num_images=25, size=(1, 28, 28)):\n",
        "    '''\n",
        "    Function for visualizing images: Given a tensor of images, number of images, and\n",
        "    size per image, plots and prints the images in an uniform grid.\n",
        "    '''\n",
        "    image_shifted = image_tensor\n",
        "    image_unflat = image_shifted.detach().cpu().view(-1, *size)\n",
        "    image_grid = make_grid(image_unflat[:num_images], nrow=5)\n",
        "    plt.imshow(image_grid.permute(1, 2, 0).squeeze())\n",
        "    plt.show()"
      ]
    },
    {
      "cell_type": "markdown",
      "metadata": {
        "id": "NjFyvNTG1CqY"
      },
      "source": [
        "#### U-Net Code\n",
        "\n",
        "The U-Net code will be much like the code you wrote for the last assignment, but with optional dropout and batchnorm. The structure is changed slightly for Pix2Pix, so that the final image is closer in size to the input image. Feel free to investigate the code if you're interested!"
      ]
    },
    {
      "cell_type": "code",
      "execution_count": null,
      "metadata": {
        "id": "xvY4ZNyUviY9"
      },
      "outputs": [],
      "source": [
        "def crop(image, new_shape):\n",
        "    '''\n",
        "    Function for cropping an image tensor: Given an image tensor and the new shape,\n",
        "    crops to the center pixels.\n",
        "    Parameters:\n",
        "        image: image tensor of shape (batch size, channels, height, width)\n",
        "        new_shape: a torch.Size object with the shape you want x to have\n",
        "    '''\n",
        "    middle_height = image.shape[2] // 2\n",
        "    middle_width = image.shape[3] // 2\n",
        "    starting_height = middle_height - round(new_shape[2] / 2)\n",
        "    final_height = starting_height + new_shape[2]\n",
        "    starting_width = middle_width - round(new_shape[3] / 2)\n",
        "    final_width = starting_width + new_shape[3]\n",
        "    cropped_image = image[:, :, starting_height:final_height, starting_width:final_width]\n",
        "    return cropped_image\n",
        "\n",
        "class ContractingBlock(nn.Module):\n",
        "    '''\n",
        "    ContractingBlock Class\n",
        "    Performs two convolutions followed by a max pool operation.\n",
        "    Values:\n",
        "        input_channels: the number of channels to expect from a given input\n",
        "    '''\n",
        "    def __init__(self, input_channels, use_dropout=False, use_bn=True):\n",
        "        super(ContractingBlock, self).__init__()\n",
        "        self.conv1 = nn.Conv2d(input_channels, input_channels * 2, kernel_size=3, padding=1)\n",
        "        self.conv2 = nn.Conv2d(input_channels * 2, input_channels * 2, kernel_size=3, padding=1)\n",
        "        self.activation = nn.LeakyReLU(0.2)\n",
        "        self.maxpool = nn.MaxPool2d(kernel_size=2, stride=2)\n",
        "        if use_bn:\n",
        "            self.batchnorm = nn.BatchNorm2d(input_channels * 2)\n",
        "        self.use_bn = use_bn\n",
        "        if use_dropout:\n",
        "            self.dropout = nn.Dropout()\n",
        "        self.use_dropout = use_dropout\n",
        "\n",
        "    def forward(self, x):\n",
        "        '''\n",
        "        Function for completing a forward pass of ContractingBlock: \n",
        "        Given an image tensor, completes a contracting block and returns the transformed tensor.\n",
        "        Parameters:\n",
        "            x: image tensor of shape (batch size, channels, height, width)\n",
        "        '''\n",
        "        x = self.conv1(x)\n",
        "        if self.use_bn:\n",
        "            x = self.batchnorm(x)\n",
        "        if self.use_dropout:\n",
        "            x = self.dropout(x)\n",
        "        x = self.activation(x)\n",
        "        x = self.conv2(x)\n",
        "        if self.use_bn:\n",
        "            x = self.batchnorm(x)\n",
        "        if self.use_dropout:\n",
        "            x = self.dropout(x)\n",
        "        x = self.activation(x)\n",
        "        x = self.maxpool(x)\n",
        "        return x\n",
        "\n",
        "class ExpandingBlock(nn.Module):\n",
        "    '''\n",
        "    ExpandingBlock Class:\n",
        "    Performs an upsampling, a convolution, a concatenation of its two inputs,\n",
        "    followed by two more convolutions with optional dropout\n",
        "    Values:\n",
        "        input_channels: the number of channels to expect from a given input\n",
        "    '''\n",
        "    def __init__(self, input_channels, use_dropout=False, use_bn=True):\n",
        "        super(ExpandingBlock, self).__init__()\n",
        "        self.upsample = nn.Upsample(scale_factor=2, mode='bilinear', align_corners=True)\n",
        "        self.conv1 = nn.Conv2d(input_channels, input_channels // 2, kernel_size=2)\n",
        "        self.conv2 = nn.Conv2d(input_channels, input_channels // 2, kernel_size=3, padding=1)\n",
        "        self.conv3 = nn.Conv2d(input_channels // 2, input_channels // 2, kernel_size=2, padding=1)\n",
        "        if use_bn:\n",
        "            self.batchnorm = nn.BatchNorm2d(input_channels // 2)\n",
        "        self.use_bn = use_bn\n",
        "        self.activation = nn.ReLU()\n",
        "        if use_dropout:\n",
        "            self.dropout = nn.Dropout()\n",
        "        self.use_dropout = use_dropout\n",
        "\n",
        "    def forward(self, x, skip_con_x):\n",
        "        '''\n",
        "        Function for completing a forward pass of ExpandingBlock: \n",
        "        Given an image tensor, completes an expanding block and returns the transformed tensor.\n",
        "        Parameters:\n",
        "            x: image tensor of shape (batch size, channels, height, width)\n",
        "            skip_con_x: the image tensor from the contracting path (from the opposing block of x)\n",
        "                    for the skip connection\n",
        "        '''\n",
        "        x = self.upsample(x)\n",
        "        x = self.conv1(x)\n",
        "        skip_con_x = crop(skip_con_x, x.shape)\n",
        "        x = torch.cat([x, skip_con_x], axis=1)\n",
        "        x = self.conv2(x)\n",
        "        if self.use_bn:\n",
        "            x = self.batchnorm(x)\n",
        "        if self.use_dropout:\n",
        "            x = self.dropout(x)\n",
        "        x = self.activation(x)\n",
        "        x = self.conv3(x)\n",
        "        if self.use_bn:\n",
        "            x = self.batchnorm(x)\n",
        "        if self.use_dropout:\n",
        "            x = self.dropout(x)\n",
        "        x = self.activation(x)\n",
        "        return x\n",
        "\n",
        "class FeatureMapBlock(nn.Module):\n",
        "    '''\n",
        "    FeatureMapBlock Class\n",
        "    The final layer of a U-Net - \n",
        "    maps each pixel to a pixel with the correct number of output dimensions\n",
        "    using a 1x1 convolution.\n",
        "    Values:\n",
        "        input_channels: the number of channels to expect from a given input\n",
        "        output_channels: the number of channels to expect for a given output\n",
        "    '''\n",
        "    def __init__(self, input_channels, output_channels):\n",
        "        super(FeatureMapBlock, self).__init__()\n",
        "        self.conv = nn.Conv2d(input_channels, output_channels, kernel_size=1)\n",
        "\n",
        "    def forward(self, x):\n",
        "        '''\n",
        "        Function for completing a forward pass of FeatureMapBlock: \n",
        "        Given an image tensor, returns it mapped to the desired number of channels.\n",
        "        Parameters:\n",
        "            x: image tensor of shape (batch size, channels, height, width)\n",
        "        '''\n",
        "        x = self.conv(x)\n",
        "        return x\n",
        "\n",
        "class UNet(nn.Module):\n",
        "    '''\n",
        "    UNet Class\n",
        "    A series of 4 contracting blocks followed by 4 expanding blocks to \n",
        "    transform an input image into the corresponding paired image, with an upfeature\n",
        "    layer at the start and a downfeature layer at the end.\n",
        "    Values:\n",
        "        input_channels: the number of channels to expect from a given input\n",
        "        output_channels: the number of channels to expect for a given output\n",
        "    '''\n",
        "    def __init__(self, input_channels, output_channels, hidden_channels=32):\n",
        "        super(UNet, self).__init__()\n",
        "        self.upfeature = FeatureMapBlock(input_channels, hidden_channels)\n",
        "        self.contract1 = ContractingBlock(hidden_channels, use_dropout=True)\n",
        "        self.contract2 = ContractingBlock(hidden_channels * 2, use_dropout=True)\n",
        "        self.contract3 = ContractingBlock(hidden_channels * 4, use_dropout=True)\n",
        "        self.contract4 = ContractingBlock(hidden_channels * 8)\n",
        "        self.contract5 = ContractingBlock(hidden_channels * 16)\n",
        "        self.contract6 = ContractingBlock(hidden_channels * 32)\n",
        "        self.expand0 = ExpandingBlock(hidden_channels * 64)\n",
        "        self.expand1 = ExpandingBlock(hidden_channels * 32)\n",
        "        self.expand2 = ExpandingBlock(hidden_channels * 16)\n",
        "        self.expand3 = ExpandingBlock(hidden_channels * 8)\n",
        "        self.expand4 = ExpandingBlock(hidden_channels * 4)\n",
        "        self.expand5 = ExpandingBlock(hidden_channels * 2)\n",
        "        self.downfeature = FeatureMapBlock(hidden_channels, output_channels)\n",
        "        self.sigmoid = torch.nn.Sigmoid()\n",
        "\n",
        "    def forward(self, x):\n",
        "        '''\n",
        "        Function for completing a forward pass of UNet: \n",
        "        Given an image tensor, passes it through U-Net and returns the output.\n",
        "        Parameters:\n",
        "            x: image tensor of shape (batch size, channels, height, width)\n",
        "        '''\n",
        "        x0 = self.upfeature(x)\n",
        "        x1 = self.contract1(x0)\n",
        "        x2 = self.contract2(x1)\n",
        "        x3 = self.contract3(x2)\n",
        "        x4 = self.contract4(x3)\n",
        "        x5 = self.contract5(x4)\n",
        "        x6 = self.contract6(x5)\n",
        "        x7 = self.expand0(x6, x5)\n",
        "        x8 = self.expand1(x7, x4)\n",
        "        x9 = self.expand2(x8, x3)\n",
        "        x10 = self.expand3(x9, x2)\n",
        "        x11 = self.expand4(x10, x1)\n",
        "        x12 = self.expand5(x11, x0)\n",
        "        xn = self.downfeature(x12)\n",
        "        return self.sigmoid(xn)"
      ]
    },
    {
      "cell_type": "markdown",
      "metadata": {
        "id": "T6ndvjc_1KXx"
      },
      "source": [
        "## PatchGAN Discriminator\n",
        "\n",
        "Next, you will define a discriminator based on the contracting path of the U-Net to allow you to evaluate the realism of the generated images. Remember that the discriminator outputs a one-channel matrix of classifications instead of a single value. Your discriminator's final layer will simply map from the final number of hidden channels to a single prediction for every pixel of the layer before it."
      ]
    },
    {
      "cell_type": "code",
      "execution_count": null,
      "metadata": {
        "id": "0nVuJPjV1f92"
      },
      "outputs": [],
      "source": [
        "# UNQ_C1 (UNIQUE CELL IDENTIFIER, DO NOT EDIT)\n",
        "# GRADED CLASS: Discriminator\n",
        "class Discriminator(nn.Module):\n",
        "    '''\n",
        "    Discriminator Class\n",
        "    Structured like the contracting path of the U-Net, the discriminator will\n",
        "    output a matrix of values classifying corresponding portions of the image as real or fake. \n",
        "    Parameters:\n",
        "        input_channels: the number of image input channels\n",
        "        hidden_channels: the initial number of discriminator convolutional filters\n",
        "    '''\n",
        "    def __init__(self, input_channels, hidden_channels=8):\n",
        "        super(Discriminator, self).__init__()\n",
        "        self.upfeature = FeatureMapBlock(input_channels, hidden_channels)\n",
        "        self.contract1 = ContractingBlock(hidden_channels, use_bn=False)\n",
        "        self.contract2 = ContractingBlock(hidden_channels * 2)\n",
        "        self.contract3 = ContractingBlock(hidden_channels * 4)\n",
        "        self.contract4 = ContractingBlock(hidden_channels * 8)\n",
        "        #### START CODE HERE ####\n",
        "        #self.final = nn.Conv2d(hidden_channels * 16, None, kernel_size=None)\n",
        "        self.final = nn.Conv2d(hidden_channels * 16, hidden_channels, kernel_size=1)\n",
        "        #### END CODE HERE ####\n",
        "\n",
        "    def forward(self, x, y):\n",
        "        x = torch.cat([x, y], axis=1)\n",
        "        x0 = self.upfeature(x)\n",
        "        x1 = self.contract1(x0)\n",
        "        x2 = self.contract2(x1)\n",
        "        x3 = self.contract3(x2)\n",
        "        x4 = self.contract4(x3)\n",
        "        xn = self.final(x4)\n",
        "        return xn"
      ]
    },
    {
      "cell_type": "code",
      "execution_count": null,
      "metadata": {
        "colab": {
          "base_uri": "https://localhost:8080/"
        },
        "id": "AFZBTJ_4Ubld",
        "outputId": "8ff1c0a5-5b1b-49fd-f82d-fee361148c0a"
      },
      "outputs": [
        {
          "output_type": "stream",
          "name": "stdout",
          "text": [
            "Success!\n"
          ]
        }
      ],
      "source": [
        "# UNIT TEST\n",
        "test_discriminator = Discriminator(10, 1)\n",
        "assert tuple(test_discriminator(\n",
        "    torch.randn(1, 5, 256, 256), \n",
        "    torch.randn(1, 5, 256, 256)\n",
        ").shape) == (1, 1, 16, 16)\n",
        "print(\"Success!\")"
      ]
    },
    {
      "cell_type": "markdown",
      "metadata": {
        "id": "qRk_8azSq3tF"
      },
      "source": [
        "## Training Preparation\n",
        "<!-- You'll be using the same U-Net as in the previous assignment, but you'll write another discriminator and change the loss to make it a GAN. -->\n",
        "\n",
        "Now you can begin putting everything together for training. You start by defining some new parameters as well as the ones you are familiar with:\n",
        "  *   **real_dim**: the number of channels of the real image and the number expected in the output image\n",
        "  *   **adv_criterion**: an adversarial loss function to keep track of how well the GAN is fooling the discriminator and how well the discriminator is catching the GAN\n",
        "  *   **recon_criterion**: a loss function that rewards similar images to the ground truth, which \"reconstruct\" the image\n",
        "  *   **lambda_recon**: a parameter for how heavily the reconstruction loss should be weighed\n",
        "  *   **n_epochs**: the number of times you iterate through the entire dataset when training\n",
        "  *   **input_dim**: the number of channels of the input image\n",
        "  *   **display_step**: how often to display/visualize the images\n",
        "  *   **batch_size**: the number of images per forward/backward pass\n",
        "  *   **lr**: the learning rate\n",
        "  *   **target_shape**: the size of the output image (in pixels)\n",
        "  *   **device**: the device type"
      ]
    },
    {
      "cell_type": "code",
      "execution_count": null,
      "metadata": {
        "id": "UXptQZcwrBrq"
      },
      "outputs": [],
      "source": [
        "import torch.nn.functional as F\n",
        "# New parameters\n",
        "adv_criterion = nn.BCEWithLogitsLoss() \n",
        "recon_criterion = nn.L1Loss() \n",
        "lambda_recon = 200\n",
        "\n",
        "n_epochs = 20\n",
        "input_dim = 3\n",
        "real_dim = 3\n",
        "display_step = 200\n",
        "batch_size = 4\n",
        "lr = 0.0002\n",
        "target_shape = 256\n",
        "device = 'cuda'"
      ]
    },
    {
      "cell_type": "markdown",
      "metadata": {
        "id": "WPOUC6-nVDCv"
      },
      "source": [
        "You will then pre-process the images of the dataset to make sure they're all the same size and that the size change due to U-Net layers is accounted for. "
      ]
    },
    {
      "cell_type": "code",
      "source": [
        "!ls maps/val"
      ],
      "metadata": {
        "colab": {
          "base_uri": "https://localhost:8080/"
        },
        "id": "ct1bKw-Cdbgl",
        "outputId": "8d17fbf2-11e0-4282-bbff-780e02badb67"
      },
      "execution_count": null,
      "outputs": [
        {
          "output_type": "stream",
          "name": "stdout",
          "text": [
            "1000.jpg  1018.jpg  1035.jpg  1052.jpg\t106.jpg   1087.jpg  114.jpg  131.jpg\n",
            "1001.jpg  1019.jpg  1036.jpg  1053.jpg\t1070.jpg  1088.jpg  115.jpg  132.jpg\n",
            "1002.jpg  101.jpg   1037.jpg  1054.jpg\t1071.jpg  1089.jpg  116.jpg  133.jpg\n",
            "1003.jpg  1020.jpg  1038.jpg  1055.jpg\t1072.jpg  108.jpg   117.jpg  134.jpg\n",
            "1004.jpg  1021.jpg  1039.jpg  1056.jpg\t1073.jpg  1090.jpg  118.jpg  135.jpg\n",
            "1005.jpg  1022.jpg  103.jpg   1057.jpg\t1074.jpg  1091.jpg  119.jpg  136.jpg\n",
            "1006.jpg  1023.jpg  1040.jpg  1058.jpg\t1075.jpg  1092.jpg  11.jpg   137.jpg\n",
            "1007.jpg  1024.jpg  1041.jpg  1059.jpg\t1076.jpg  1093.jpg  120.jpg  138.jpg\n",
            "1008.jpg  1025.jpg  1042.jpg  105.jpg\t1077.jpg  1094.jpg  121.jpg  139.jpg\n",
            "1009.jpg  1026.jpg  1043.jpg  1060.jpg\t1078.jpg  1095.jpg  122.jpg  13.jpg\n",
            "100.jpg   1027.jpg  1044.jpg  1061.jpg\t1079.jpg  1096.jpg  123.jpg  141.jpg\n",
            "1010.jpg  1028.jpg  1045.jpg  1062.jpg\t107.jpg   1097.jpg  124.jpg  142.jpg\n",
            "1011.jpg  1029.jpg  1046.jpg  1063.jpg\t1080.jpg  1098.jpg  125.jpg  143.jpg\n",
            "1012.jpg  102.jpg   1047.jpg  1064.jpg\t1081.jpg  109.jpg   126.jpg  144.jpg\n",
            "1013.jpg  1030.jpg  1048.jpg  1065.jpg\t1082.jpg  10.jpg    127.jpg  145.jpg\n",
            "1014.jpg  1031.jpg  1049.jpg  1066.jpg\t1083.jpg  110.jpg   128.jpg  146.jpg\n",
            "1015.jpg  1032.jpg  104.jpg   1067.jpg\t1084.jpg  111.jpg   129.jpg  147.jpg\n",
            "1016.jpg  1033.jpg  1050.jpg  1068.jpg\t1085.jpg  112.jpg   12.jpg   14.jpg\n",
            "1017.jpg  1034.jpg  1051.jpg  1069.jpg\t1086.jpg  113.jpg   130.jpg  1.jpg\n"
          ]
        }
      ]
    },
    {
      "cell_type": "code",
      "execution_count": null,
      "metadata": {
        "colab": {
          "base_uri": "https://localhost:8080/",
          "height": 345
        },
        "id": "PNAK2XqMJ419",
        "outputId": "b750f275-f35a-42c2-e3ee-e7b4c0e6ee65"
      },
      "outputs": [
        {
          "output_type": "error",
          "ename": "FileNotFoundError",
          "evalue": "ignored",
          "traceback": [
            "\u001b[0;31m---------------------------------------------------------------------------\u001b[0m",
            "\u001b[0;31mFileNotFoundError\u001b[0m                         Traceback (most recent call last)",
            "\u001b[0;32m<ipython-input-23-2f4939d8b8b2>\u001b[0m in \u001b[0;36m<cell line: 6>\u001b[0;34m()\u001b[0m\n\u001b[1;32m      4\u001b[0m \u001b[0;34m\u001b[0m\u001b[0m\n\u001b[1;32m      5\u001b[0m \u001b[0;32mimport\u001b[0m \u001b[0mtorchvision\u001b[0m\u001b[0;34m\u001b[0m\u001b[0;34m\u001b[0m\u001b[0m\n\u001b[0;32m----> 6\u001b[0;31m \u001b[0mdataset\u001b[0m \u001b[0;34m=\u001b[0m \u001b[0mtorchvision\u001b[0m\u001b[0;34m.\u001b[0m\u001b[0mdatasets\u001b[0m\u001b[0;34m.\u001b[0m\u001b[0mImageFolder\u001b[0m\u001b[0;34m(\u001b[0m\u001b[0;34m\"maps\"\u001b[0m\u001b[0;34m,\u001b[0m \u001b[0mtransform\u001b[0m\u001b[0;34m=\u001b[0m\u001b[0mtransform\u001b[0m\u001b[0;34m)\u001b[0m\u001b[0;34m\u001b[0m\u001b[0;34m\u001b[0m\u001b[0m\n\u001b[0m",
            "\u001b[0;32m/usr/local/lib/python3.9/dist-packages/torchvision/datasets/folder.py\u001b[0m in \u001b[0;36m__init__\u001b[0;34m(self, root, transform, target_transform, loader, is_valid_file)\u001b[0m\n\u001b[1;32m    307\u001b[0m         \u001b[0mis_valid_file\u001b[0m\u001b[0;34m:\u001b[0m \u001b[0mOptional\u001b[0m\u001b[0;34m[\u001b[0m\u001b[0mCallable\u001b[0m\u001b[0;34m[\u001b[0m\u001b[0;34m[\u001b[0m\u001b[0mstr\u001b[0m\u001b[0;34m]\u001b[0m\u001b[0;34m,\u001b[0m \u001b[0mbool\u001b[0m\u001b[0;34m]\u001b[0m\u001b[0;34m]\u001b[0m \u001b[0;34m=\u001b[0m \u001b[0;32mNone\u001b[0m\u001b[0;34m,\u001b[0m\u001b[0;34m\u001b[0m\u001b[0;34m\u001b[0m\u001b[0m\n\u001b[1;32m    308\u001b[0m     ):\n\u001b[0;32m--> 309\u001b[0;31m         super().__init__(\n\u001b[0m\u001b[1;32m    310\u001b[0m             \u001b[0mroot\u001b[0m\u001b[0;34m,\u001b[0m\u001b[0;34m\u001b[0m\u001b[0;34m\u001b[0m\u001b[0m\n\u001b[1;32m    311\u001b[0m             \u001b[0mloader\u001b[0m\u001b[0;34m,\u001b[0m\u001b[0;34m\u001b[0m\u001b[0;34m\u001b[0m\u001b[0m\n",
            "\u001b[0;32m/usr/local/lib/python3.9/dist-packages/torchvision/datasets/folder.py\u001b[0m in \u001b[0;36m__init__\u001b[0;34m(self, root, loader, extensions, transform, target_transform, is_valid_file)\u001b[0m\n\u001b[1;32m    143\u001b[0m         \u001b[0msuper\u001b[0m\u001b[0;34m(\u001b[0m\u001b[0;34m)\u001b[0m\u001b[0;34m.\u001b[0m\u001b[0m__init__\u001b[0m\u001b[0;34m(\u001b[0m\u001b[0mroot\u001b[0m\u001b[0;34m,\u001b[0m \u001b[0mtransform\u001b[0m\u001b[0;34m=\u001b[0m\u001b[0mtransform\u001b[0m\u001b[0;34m,\u001b[0m \u001b[0mtarget_transform\u001b[0m\u001b[0;34m=\u001b[0m\u001b[0mtarget_transform\u001b[0m\u001b[0;34m)\u001b[0m\u001b[0;34m\u001b[0m\u001b[0;34m\u001b[0m\u001b[0m\n\u001b[1;32m    144\u001b[0m         \u001b[0mclasses\u001b[0m\u001b[0;34m,\u001b[0m \u001b[0mclass_to_idx\u001b[0m \u001b[0;34m=\u001b[0m \u001b[0mself\u001b[0m\u001b[0;34m.\u001b[0m\u001b[0mfind_classes\u001b[0m\u001b[0;34m(\u001b[0m\u001b[0mself\u001b[0m\u001b[0;34m.\u001b[0m\u001b[0mroot\u001b[0m\u001b[0;34m)\u001b[0m\u001b[0;34m\u001b[0m\u001b[0;34m\u001b[0m\u001b[0m\n\u001b[0;32m--> 145\u001b[0;31m         \u001b[0msamples\u001b[0m \u001b[0;34m=\u001b[0m \u001b[0mself\u001b[0m\u001b[0;34m.\u001b[0m\u001b[0mmake_dataset\u001b[0m\u001b[0;34m(\u001b[0m\u001b[0mself\u001b[0m\u001b[0;34m.\u001b[0m\u001b[0mroot\u001b[0m\u001b[0;34m,\u001b[0m \u001b[0mclass_to_idx\u001b[0m\u001b[0;34m,\u001b[0m \u001b[0mextensions\u001b[0m\u001b[0;34m,\u001b[0m \u001b[0mis_valid_file\u001b[0m\u001b[0;34m)\u001b[0m\u001b[0;34m\u001b[0m\u001b[0;34m\u001b[0m\u001b[0m\n\u001b[0m\u001b[1;32m    146\u001b[0m \u001b[0;34m\u001b[0m\u001b[0m\n\u001b[1;32m    147\u001b[0m         \u001b[0mself\u001b[0m\u001b[0;34m.\u001b[0m\u001b[0mloader\u001b[0m \u001b[0;34m=\u001b[0m \u001b[0mloader\u001b[0m\u001b[0;34m\u001b[0m\u001b[0;34m\u001b[0m\u001b[0m\n",
            "\u001b[0;32m/usr/local/lib/python3.9/dist-packages/torchvision/datasets/folder.py\u001b[0m in \u001b[0;36mmake_dataset\u001b[0;34m(directory, class_to_idx, extensions, is_valid_file)\u001b[0m\n\u001b[1;32m    187\u001b[0m             \u001b[0;31m# is potentially overridden and thus could have a different logic.\u001b[0m\u001b[0;34m\u001b[0m\u001b[0;34m\u001b[0m\u001b[0m\n\u001b[1;32m    188\u001b[0m             \u001b[0;32mraise\u001b[0m \u001b[0mValueError\u001b[0m\u001b[0;34m(\u001b[0m\u001b[0;34m\"The class_to_idx parameter cannot be None.\"\u001b[0m\u001b[0;34m)\u001b[0m\u001b[0;34m\u001b[0m\u001b[0;34m\u001b[0m\u001b[0m\n\u001b[0;32m--> 189\u001b[0;31m         \u001b[0;32mreturn\u001b[0m \u001b[0mmake_dataset\u001b[0m\u001b[0;34m(\u001b[0m\u001b[0mdirectory\u001b[0m\u001b[0;34m,\u001b[0m \u001b[0mclass_to_idx\u001b[0m\u001b[0;34m,\u001b[0m \u001b[0mextensions\u001b[0m\u001b[0;34m=\u001b[0m\u001b[0mextensions\u001b[0m\u001b[0;34m,\u001b[0m \u001b[0mis_valid_file\u001b[0m\u001b[0;34m=\u001b[0m\u001b[0mis_valid_file\u001b[0m\u001b[0;34m)\u001b[0m\u001b[0;34m\u001b[0m\u001b[0;34m\u001b[0m\u001b[0m\n\u001b[0m\u001b[1;32m    190\u001b[0m \u001b[0;34m\u001b[0m\u001b[0m\n\u001b[1;32m    191\u001b[0m     \u001b[0;32mdef\u001b[0m \u001b[0mfind_classes\u001b[0m\u001b[0;34m(\u001b[0m\u001b[0mself\u001b[0m\u001b[0;34m,\u001b[0m \u001b[0mdirectory\u001b[0m\u001b[0;34m:\u001b[0m \u001b[0mstr\u001b[0m\u001b[0;34m)\u001b[0m \u001b[0;34m->\u001b[0m \u001b[0mTuple\u001b[0m\u001b[0;34m[\u001b[0m\u001b[0mList\u001b[0m\u001b[0;34m[\u001b[0m\u001b[0mstr\u001b[0m\u001b[0;34m]\u001b[0m\u001b[0;34m,\u001b[0m \u001b[0mDict\u001b[0m\u001b[0;34m[\u001b[0m\u001b[0mstr\u001b[0m\u001b[0;34m,\u001b[0m \u001b[0mint\u001b[0m\u001b[0;34m]\u001b[0m\u001b[0;34m]\u001b[0m\u001b[0;34m:\u001b[0m\u001b[0;34m\u001b[0m\u001b[0;34m\u001b[0m\u001b[0m\n",
            "\u001b[0;32m/usr/local/lib/python3.9/dist-packages/torchvision/datasets/folder.py\u001b[0m in \u001b[0;36mmake_dataset\u001b[0;34m(directory, class_to_idx, extensions, is_valid_file)\u001b[0m\n\u001b[1;32m    100\u001b[0m         \u001b[0;32mif\u001b[0m \u001b[0mextensions\u001b[0m \u001b[0;32mis\u001b[0m \u001b[0;32mnot\u001b[0m \u001b[0;32mNone\u001b[0m\u001b[0;34m:\u001b[0m\u001b[0;34m\u001b[0m\u001b[0;34m\u001b[0m\u001b[0m\n\u001b[1;32m    101\u001b[0m             \u001b[0mmsg\u001b[0m \u001b[0;34m+=\u001b[0m \u001b[0;34mf\"Supported extensions are: {extensions if isinstance(extensions, str) else ', '.join(extensions)}\"\u001b[0m\u001b[0;34m\u001b[0m\u001b[0;34m\u001b[0m\u001b[0m\n\u001b[0;32m--> 102\u001b[0;31m         \u001b[0;32mraise\u001b[0m \u001b[0mFileNotFoundError\u001b[0m\u001b[0;34m(\u001b[0m\u001b[0mmsg\u001b[0m\u001b[0;34m)\u001b[0m\u001b[0;34m\u001b[0m\u001b[0;34m\u001b[0m\u001b[0m\n\u001b[0m\u001b[1;32m    103\u001b[0m \u001b[0;34m\u001b[0m\u001b[0m\n\u001b[1;32m    104\u001b[0m     \u001b[0;32mreturn\u001b[0m \u001b[0minstances\u001b[0m\u001b[0;34m\u001b[0m\u001b[0;34m\u001b[0m\u001b[0m\n",
            "\u001b[0;31mFileNotFoundError\u001b[0m: Found no valid file for the classes .ipynb_checkpoints. Supported extensions are: .jpg, .jpeg, .png, .ppm, .bmp, .pgm, .tif, .tiff, .webp"
          ]
        }
      ],
      "source": [
        "transform = transforms.Compose([\n",
        "    transforms.ToTensor(),\n",
        "])\n",
        "\n",
        "import torchvision\n",
        "dataset = torchvision.datasets.ImageFolder(\"maps\", transform=transform)"
      ]
    },
    {
      "cell_type": "markdown",
      "metadata": {
        "id": "t7vKN1POUjud"
      },
      "source": [
        "Next, you can initialize your generator (U-Net) and discriminator, as well as their optimizers. Finally, you will also load your pre-trained model."
      ]
    },
    {
      "cell_type": "code",
      "execution_count": null,
      "metadata": {
        "id": "vBY3Y9UrUgVX"
      },
      "outputs": [],
      "source": [
        "gen = UNet(input_dim, real_dim).to(device)\n",
        "gen_opt = torch.optim.Adam(gen.parameters(), lr=lr)\n",
        "disc = Discriminator(input_dim + real_dim).to(device)\n",
        "disc_opt = torch.optim.Adam(disc.parameters(), lr=lr)\n",
        "\n",
        "def weights_init(m):\n",
        "    if isinstance(m, nn.Conv2d) or isinstance(m, nn.ConvTranspose2d):\n",
        "        torch.nn.init.normal_(m.weight, 0.0, 0.02)\n",
        "    if isinstance(m, nn.BatchNorm2d):\n",
        "        torch.nn.init.normal_(m.weight, 0.0, 0.02)\n",
        "        torch.nn.init.constant_(m.bias, 0)\n",
        "\n",
        "# Feel free to change pretrained to False if you're training the model from scratch\n",
        "pretrained = False\n",
        "#pretrained = True\n",
        "if pretrained:\n",
        "    loaded_state = torch.load(\"pix2pix_15000.pth\")\n",
        "    gen.load_state_dict(loaded_state[\"gen\"])\n",
        "    gen_opt.load_state_dict(loaded_state[\"gen_opt\"])\n",
        "    disc.load_state_dict(loaded_state[\"disc\"])\n",
        "    disc_opt.load_state_dict(loaded_state[\"disc_opt\"])\n",
        "else:\n",
        "    gen = gen.apply(weights_init)\n",
        "    disc = disc.apply(weights_init)"
      ]
    },
    {
      "cell_type": "markdown",
      "metadata": {
        "id": "YcpFbNDYzJrh"
      },
      "source": [
        "While there are some changes to the U-Net architecture for Pix2Pix, the most important distinguishing feature of Pix2Pix is its adversarial loss. You will be implementing that here!"
      ]
    },
    {
      "cell_type": "code",
      "execution_count": null,
      "metadata": {
        "id": "YZE-Eyj0LOpm"
      },
      "outputs": [],
      "source": [
        "# UNQ_C2 (UNIQUE CELL IDENTIFIER, DO NOT EDIT)\n",
        "# GRADED CLASS: get_gen_loss\n",
        "def get_gen_loss(gen, disc, real, condition, adv_criterion, recon_criterion, lambda_recon):\n",
        "    '''\n",
        "    Return the loss of the generator given inputs.\n",
        "    Parameters:\n",
        "        gen: the generator; takes the condition and returns potential images\n",
        "        disc: the discriminator; takes images and the condition and\n",
        "          returns real/fake prediction matrices\n",
        "        real: the real images (e.g. maps) to be used to evaluate the reconstruction\n",
        "        condition: the source images (e.g. satellite imagery) which are used to produce the real images\n",
        "        adv_criterion: the adversarial loss function; takes the discriminator \n",
        "                  predictions and the true labels and returns a adversarial \n",
        "                  loss (which you aim to minimize)\n",
        "        recon_criterion: the reconstruction loss function; takes the generator \n",
        "                    outputs and the real images and returns a reconstructuion \n",
        "                    loss (which you aim to minimize)\n",
        "        lambda_recon: the degree to which the reconstruction loss should be weighted in the sum\n",
        "    '''\n",
        "    # Steps: 1) Generate the fake images, based on the conditions.\n",
        "    #        2) Evaluate the fake images and the condition with the discriminator.\n",
        "    #        3) Calculate the adversarial and reconstruction losses.\n",
        "    #        4) Add the two losses, weighting the reconstruction loss appropriately.\n",
        "    #### START CODE HERE ####\n",
        "    \n",
        "    fake = gen(condition)\n",
        "    disc_fake_hat = disc(fake.detach(), condition) # Detach generator\n",
        "    adv_loss = adv_criterion(disc_fake_hat, torch.ones_like(disc_fake_hat))\n",
        "    recon_loss = recon_criterion(real, fake)\n",
        "    gen_loss = adv_loss + (recon_loss * lambda_recon)\n",
        "    #print(\"gen_loss->\", gen_loss)\n",
        "\n",
        "    #### END CODE HERE ####\n",
        "    return gen_loss"
      ]
    },
    {
      "cell_type": "code",
      "execution_count": null,
      "metadata": {
        "id": "KLndbJ213hV5"
      },
      "outputs": [],
      "source": [
        "# UNIT TEST\n",
        "def test_gen_reasonable(num_images=10):\n",
        "    gen = torch.zeros_like\n",
        "    disc = lambda x, y: torch.ones(len(x), 1)\n",
        "    real = None\n",
        "    condition = torch.ones(num_images, 3, 10, 10)\n",
        "    adv_criterion = torch.mul\n",
        "    recon_criterion = lambda x, y: torch.tensor(0)\n",
        "    lambda_recon = 0\n",
        "    assert get_gen_loss(gen, disc, real, condition, adv_criterion, recon_criterion, lambda_recon).sum() == num_images\n",
        "\n",
        "    disc = lambda x, y: torch.zeros(len(x), 1)\n",
        "    assert torch.abs(get_gen_loss(gen, disc, real, condition, adv_criterion, recon_criterion, lambda_recon)).sum() == 0\n",
        "\n",
        "    adv_criterion = lambda x, y: torch.tensor(0)\n",
        "    recon_criterion = lambda x, y: torch.abs(x - y).max()\n",
        "    real = torch.randn(num_images, 3, 10, 10)\n",
        "    lambda_recon = 2\n",
        "    gen = lambda x: real + 1\n",
        "    assert torch.abs(get_gen_loss(gen, disc, real, condition, adv_criterion, recon_criterion, lambda_recon) - 2) < 1e-4\n",
        "\n",
        "    adv_criterion = lambda x, y: (x + y).max() + x.max()\n",
        "    assert torch.abs(get_gen_loss(gen, disc, real, condition, adv_criterion, recon_criterion, lambda_recon) - 3) < 1e-4\n",
        "test_gen_reasonable()\n",
        "print(\"Success!\")"
      ]
    },
    {
      "cell_type": "markdown",
      "metadata": {
        "id": "SMDZWZTz3ivA"
      },
      "source": [
        "## Pix2Pix Training\n",
        "\n",
        "Finally, you can train the model and see some of your maps!"
      ]
    },
    {
      "cell_type": "code",
      "execution_count": null,
      "metadata": {
        "id": "fy6UBV60HtnY"
      },
      "outputs": [],
      "source": [
        "#from skimage import color\n",
        "import numpy as np\n",
        "\n",
        "def train(save_model=False):\n",
        "    mean_generator_loss = 0\n",
        "    mean_discriminator_loss = 0\n",
        "    dataloader = DataLoader(dataset, batch_size=batch_size, shuffle=True)\n",
        "    cur_step = 0\n",
        "\n",
        "    for epoch in range(n_epochs):\n",
        "        # Dataloader returns the batches\n",
        "        for image, _ in tqdm(dataloader):\n",
        "            image_width = image.shape[3]\n",
        "            condition = image[:, :, :, :image_width // 2]\n",
        "            condition = nn.functional.interpolate(condition, size=target_shape)\n",
        "            real = image[:, :, :, image_width // 2:]\n",
        "            real = nn.functional.interpolate(real, size=target_shape)\n",
        "            cur_batch_size = len(condition)\n",
        "            condition = condition.to(device)\n",
        "            real = real.to(device)\n",
        "\n",
        "            ### Update discriminator ###\n",
        "            disc_opt.zero_grad() # Zero out the gradient before backpropagation\n",
        "            with torch.no_grad():\n",
        "                fake = gen(condition)\n",
        "            disc_fake_hat = disc(fake.detach(), condition) # Detach generator\n",
        "            disc_fake_loss = adv_criterion(disc_fake_hat, torch.zeros_like(disc_fake_hat))\n",
        "            disc_real_hat = disc(real, condition)\n",
        "            disc_real_loss = adv_criterion(disc_real_hat, torch.ones_like(disc_real_hat))\n",
        "            disc_loss = (disc_fake_loss + disc_real_loss) / 2\n",
        "            disc_loss.backward(retain_graph=True) # Update gradients\n",
        "            disc_opt.step() # Update optimizer\n",
        "\n",
        "            ### Update generator ###\n",
        "            gen_opt.zero_grad()\n",
        "            gen_loss = get_gen_loss(gen, disc, real, condition, adv_criterion, recon_criterion, lambda_recon)\n",
        "            gen_loss.backward() # Update gradients\n",
        "            gen_opt.step() # Update optimizer\n",
        "\n",
        "            # Keep track of the average discriminator loss\n",
        "            mean_discriminator_loss += disc_loss.item() / display_step\n",
        "            # Keep track of the average generator loss\n",
        "            mean_generator_loss += gen_loss.item() / display_step\n",
        "\n",
        "            ### Visualization code ###\n",
        "            if cur_step % display_step == 0:\n",
        "                if cur_step > 0:\n",
        "                    print(f\"Epoch {epoch}: Step {cur_step}: Generator (U-Net) loss: {mean_generator_loss}, Discriminator loss: {mean_discriminator_loss}\")\n",
        "                else:\n",
        "                    print(\"Pretrained initial state\")\n",
        "                show_tensor_images(condition, size=(input_dim, target_shape, target_shape))\n",
        "                show_tensor_images(real, size=(real_dim, target_shape, target_shape))\n",
        "                show_tensor_images(fake, size=(real_dim, target_shape, target_shape))\n",
        "                mean_generator_loss = 0\n",
        "                mean_discriminator_loss = 0\n",
        "                # You can change save_model to True if you'd like to save the model\n",
        "                if save_model:\n",
        "                    torch.save({'gen': gen.state_dict(),\n",
        "                        'gen_opt': gen_opt.state_dict(),\n",
        "                        'disc': disc.state_dict(),\n",
        "                        'disc_opt': disc_opt.state_dict()\n",
        "                    }, f\"pix2pix_{cur_step}.pth\")\n",
        "            cur_step += 1\n",
        "train()"
      ]
    },
    {
      "cell_type": "code",
      "execution_count": null,
      "metadata": {
        "id": "o3XJVCw-bMXw"
      },
      "outputs": [],
      "source": []
    }
  ],
  "metadata": {
    "kernelspec": {
      "display_name": "Python 3",
      "language": "python",
      "name": "python3"
    },
    "language_info": {
      "codemirror_mode": {
        "name": "ipython",
        "version": 3
      },
      "file_extension": ".py",
      "mimetype": "text/x-python",
      "name": "python",
      "nbconvert_exporter": "python",
      "pygments_lexer": "ipython3",
      "version": "3.8.10"
    },
    "colab": {
      "provenance": []
    }
  },
  "nbformat": 4,
  "nbformat_minor": 0
}